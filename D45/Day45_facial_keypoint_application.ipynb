{
  "nbformat": 4,
  "nbformat_minor": 0,
  "metadata": {
    "kernelspec": {
      "display_name": "Python 3",
      "language": "python",
      "name": "python3"
    },
    "language_info": {
      "codemirror_mode": {
        "name": "ipython",
        "version": 3
      },
      "file_extension": ".py",
      "mimetype": "text/x-python",
      "name": "python",
      "nbconvert_exporter": "python",
      "pygments_lexer": "ipython3",
      "version": "3.6.4"
    },
    "colab": {
      "name": "Day45_facial_keypoint_application.ipynb",
      "provenance": [],
      "toc_visible": true
    }
  },
  "cells": [
    {
      "cell_type": "markdown",
      "metadata": {
        "id": "OIb7C427IjXU",
        "colab_type": "text"
      },
      "source": [
        "### 範例\n",
        "接下來的程式碼會示範如何在檢測到人臉關鍵點的情況下，做出給人臉戴上太陽眼鏡的濾鏡效果"
      ]
    },
    {
      "cell_type": "code",
      "metadata": {
        "id": "Mpa0w8e2IjXY",
        "colab_type": "code",
        "colab": {}
      },
      "source": [
        "import numpy as np\n",
        "import pandas as pd\n",
        "import matplotlib.pyplot as plt\n",
        "import cv2\n",
        "%matplotlib inline\n",
        "import warnings\n",
        "warnings.filterwarnings('ignore')"
      ],
      "execution_count": 0,
      "outputs": []
    },
    {
      "cell_type": "code",
      "metadata": {
        "id": "uzxZruEdIjXl",
        "colab_type": "code",
        "outputId": "0e49edc4-4c8f-4aca-b91c-b4e904551058",
        "colab": {
          "base_uri": "https://localhost:8080/",
          "height": 119
        }
      },
      "source": [
        "#使用 colab 環境的同學請執行以下程式碼\n",
        "%tensorflow_version 1.x # 確保 colob 中使用的 tensorflow 是 1.x 版本而不是 tensorflow 2\n",
        "import tensorflow as tf\n",
        "print(tf.__version__)\n",
        "\n",
        "import os\n",
        "# from google.colab import drive \n",
        "# drive.mount('/content/gdrive') # 將 google drive 掛載在 colob，\n",
        "# %cd 'gdrive/My Drive'\n",
        "# os.system(\"mkdir cupoy_cv_part4\") # 可以自己改路徑\n",
        "# %cd cupoy_cv_part4 # 可以自己改路徑"
      ],
      "execution_count": 0,
      "outputs": [
        {
          "output_type": "stream",
          "text": [
            "`%tensorflow_version` only switches the major version: `1.x` or `2.x`.\n",
            "You set: `1.x # 確保 colob 中使用的 tensorflow 是 1.x 版本而不是 tensorflow 2`. This will be interpreted as: `1.x`.\n",
            "\n",
            "\n",
            "TensorFlow 1.x selected.\n",
            "1.15.0\n"
          ],
          "name": "stdout"
        }
      ]
    },
    {
      "cell_type": "code",
      "metadata": {
        "id": "NPbuObWNJLmb",
        "colab_type": "code",
        "outputId": "ed11a42b-6375-46f7-ef33-f6aa3daacde9",
        "colab": {
          "base_uri": "https://localhost:8080/",
          "height": 306
        }
      },
      "source": [
        "os.environ['KAGGLE_USERNAME'] = 'hao134' # 請按照 Day42 簡報內容，獲取 kaggle api 需要用到的 username\n",
        "os.environ['KAGGLE_KEY'] = '03879434017bf7ad402ab981bad46fe0' # 請按照 Day42 簡報獲取 kaggle api 需要用到的 key\n",
        "!kaggle competitions download -c facial-keypoints-detection\n",
        "!unzip test.zip\n",
        "!unzip training.zip"
      ],
      "execution_count": 0,
      "outputs": [
        {
          "output_type": "stream",
          "text": [
            "Warning: Looks like you're using an outdated API Version, please consider updating (server 1.5.6 / client 1.5.4)\n",
            "Downloading test.zip to /content\n",
            " 50% 8.00M/16.0M [00:00<00:00, 83.8MB/s]\n",
            "100% 16.0M/16.0M [00:00<00:00, 102MB/s] \n",
            "Downloading IdLookupTable.csv to /content\n",
            "  0% 0.00/843k [00:00<?, ?B/s]\n",
            "100% 843k/843k [00:00<00:00, 115MB/s]\n",
            "Downloading SampleSubmission.csv to /content\n",
            "  0% 0.00/201k [00:00<?, ?B/s]\n",
            "100% 201k/201k [00:00<00:00, 205MB/s]\n",
            "Downloading training.zip to /content\n",
            " 96% 58.0M/60.1M [00:00<00:00, 77.5MB/s]\n",
            "100% 60.1M/60.1M [00:00<00:00, 135MB/s] \n",
            "Archive:  test.zip\n",
            "  inflating: test.csv                \n",
            "Archive:  training.zip\n",
            "  inflating: training.csv            \n"
          ],
          "name": "stdout"
        }
      ]
    },
    {
      "cell_type": "code",
      "metadata": {
        "id": "HUQ9NnOKIjXu",
        "colab_type": "code",
        "colab": {}
      },
      "source": [
        "# 讀取資料集以及做前處理的函數\n",
        "def load_data(dirname):\n",
        "    # 讀取 csv 文件\n",
        "    data = pd.read_csv(dirname)\n",
        "    # 過濾有缺失值的 row\n",
        "    data = data.dropna()\n",
        "\n",
        "    # 將圖片像素值讀取為 numpy array 的形態\n",
        "    data['Image'] = data['Image'].apply(lambda img: np.fromstring(img, sep=' ')).values \n",
        "\n",
        "    # 單獨把圖像 array 抽取出來\n",
        "    imgs = np.vstack(data['Image'].values)/255\n",
        "    # reshape 為 96 x 96\n",
        "    imgs = imgs.reshape(data.shape[0], 96, 96)\n",
        "    # 轉換為 float\n",
        "    imgs = imgs.astype(np.float32)\n",
        "    \n",
        "    # 提取坐標的部分\n",
        "    points = data[data.columns[:-1]].values\n",
        "\n",
        "    # 轉換為 float\n",
        "    points = points.astype(np.float32)\n",
        "\n",
        "    # normalize 坐標值到 [-0.5, 0.5]\n",
        "    points = points/96 - 0.5\n",
        "    \n",
        "    return imgs, points"
      ],
      "execution_count": 0,
      "outputs": []
    },
    {
      "cell_type": "code",
      "metadata": {
        "id": "qTmtZCELIjX2",
        "colab_type": "code",
        "colab": {}
      },
      "source": [
        "# 讀取資料\n",
        "imgs_train, points_train = load_data(dirname = 'training.csv')"
      ],
      "execution_count": 0,
      "outputs": []
    },
    {
      "cell_type": "code",
      "metadata": {
        "id": "gJxNpCi3IjX9",
        "colab_type": "code",
        "outputId": "3bd56d8d-505e-449e-e0bf-b3c0174e5d54",
        "colab": {
          "base_uri": "https://localhost:8080/",
          "height": 34
        }
      },
      "source": [
        "from keras.models import Sequential\n",
        "from keras.layers import Conv2D, MaxPooling2D, Flatten, Dense, Dropout"
      ],
      "execution_count": 0,
      "outputs": [
        {
          "output_type": "stream",
          "text": [
            "Using TensorFlow backend.\n"
          ],
          "name": "stderr"
        }
      ]
    },
    {
      "cell_type": "code",
      "metadata": {
        "id": "rowB1FafIjYH",
        "colab_type": "code",
        "colab": {}
      },
      "source": [
        "# 回傳定義好的 model 的函數\n",
        "def get_model():\n",
        "    # 定義人臉關鍵點檢測網路\n",
        "    model = Sequential()\n",
        "\n",
        "    # 定義神經網路的輸入\n",
        "    model.add(Conv2D(filters=16, kernel_size=3, activation='relu', input_shape=(96, 96, 1)))\n",
        "    model.add(MaxPooling2D(pool_size=2))\n",
        "\n",
        "    model.add(Conv2D(filters=32, kernel_size=3, activation='relu'))\n",
        "    model.add(MaxPooling2D(pool_size=2))\n",
        "\n",
        "    model.add(Conv2D(filters=64, kernel_size=3, activation='relu'))\n",
        "    model.add(MaxPooling2D(pool_size=2))\n",
        "\n",
        "    model.add(Conv2D(filters=128, kernel_size=3, activation='relu'))\n",
        "    model.add(MaxPooling2D(pool_size=2))\n",
        "\n",
        "    model.add(Flatten())\n",
        "    model.add(Dense(512, activation='relu'))\n",
        "    model.add(Dropout(0.2))\n",
        "    model.add(Dense(512, activation='relu'))\n",
        "    model.add(Dropout(0.2))\n",
        "\n",
        "    # 最後輸出 30 維的向量，也就是 15 個關鍵點的值\n",
        "    model.add(Dense(30))\n",
        "    return model"
      ],
      "execution_count": 0,
      "outputs": []
    },
    {
      "cell_type": "code",
      "metadata": {
        "id": "8ZZ0wl-AJ3Ce",
        "colab_type": "code",
        "colab": {}
      },
      "source": [
        "from keras.callbacks import ModelCheckpoint, History\n",
        "# model checkpoint \n",
        "checkpoint = ModelCheckpoint('best_weights.h5', verbose=1, save_best_only=True)\n",
        "hist = History()"
      ],
      "execution_count": 0,
      "outputs": []
    },
    {
      "cell_type": "code",
      "metadata": {
        "id": "UpwAHd_-KEkC",
        "colab_type": "code",
        "outputId": "4df96fbd-33b6-450c-c3cc-6c9f4bd3456d",
        "colab": {
          "base_uri": "https://localhost:8080/",
          "height": 71
        }
      },
      "source": [
        "model = get_model()\n",
        "# 配置 loss funtion 和 optimizer\n",
        "model.compile(loss='mean_squared_error', optimizer='adam')"
      ],
      "execution_count": 0,
      "outputs": [
        {
          "output_type": "stream",
          "text": [
            "WARNING:tensorflow:From /usr/local/lib/python3.6/dist-packages/keras/optimizers.py:793: The name tf.train.Optimizer is deprecated. Please use tf.compat.v1.train.Optimizer instead.\n",
            "\n"
          ],
          "name": "stdout"
        }
      ]
    },
    {
      "cell_type": "code",
      "metadata": {
        "id": "o_nf0AMFJ8Or",
        "colab_type": "code",
        "outputId": "18ed06ff-ee22-4740-ea36-813fa7358e11",
        "colab": {
          "base_uri": "https://localhost:8080/",
          "height": 1000
        }
      },
      "source": [
        "# training the model\n",
        "hist_model = model.fit(imgs_train.reshape(-1, 96, 96, 1), \n",
        "                       points_train, \n",
        "                       validation_split=0.2, batch_size=64, callbacks=[checkpoint, hist],\n",
        "                       shuffle=True, epochs=150, verbose=1)\n",
        "# save the model weights\n",
        "model.save_weights('weights.h5')\n",
        "# save the model\n",
        "model.save('model.h5')"
      ],
      "execution_count": 0,
      "outputs": [
        {
          "output_type": "stream",
          "text": [
            "WARNING:tensorflow:From /usr/local/lib/python3.6/dist-packages/keras/backend/tensorflow_backend.py:1033: The name tf.assign_add is deprecated. Please use tf.compat.v1.assign_add instead.\n",
            "\n",
            "WARNING:tensorflow:From /usr/local/lib/python3.6/dist-packages/keras/backend/tensorflow_backend.py:1020: The name tf.assign is deprecated. Please use tf.compat.v1.assign instead.\n",
            "\n",
            "WARNING:tensorflow:From /usr/local/lib/python3.6/dist-packages/keras/backend/tensorflow_backend.py:3005: The name tf.Session is deprecated. Please use tf.compat.v1.Session instead.\n",
            "\n",
            "Train on 1712 samples, validate on 428 samples\n",
            "Epoch 1/150\n",
            "WARNING:tensorflow:From /usr/local/lib/python3.6/dist-packages/keras/backend/tensorflow_backend.py:190: The name tf.get_default_session is deprecated. Please use tf.compat.v1.get_default_session instead.\n",
            "\n",
            "WARNING:tensorflow:From /usr/local/lib/python3.6/dist-packages/keras/backend/tensorflow_backend.py:197: The name tf.ConfigProto is deprecated. Please use tf.compat.v1.ConfigProto instead.\n",
            "\n",
            "WARNING:tensorflow:From /usr/local/lib/python3.6/dist-packages/keras/backend/tensorflow_backend.py:207: The name tf.global_variables is deprecated. Please use tf.compat.v1.global_variables instead.\n",
            "\n",
            "WARNING:tensorflow:From /usr/local/lib/python3.6/dist-packages/keras/backend/tensorflow_backend.py:216: The name tf.is_variable_initialized is deprecated. Please use tf.compat.v1.is_variable_initialized instead.\n",
            "\n",
            "WARNING:tensorflow:From /usr/local/lib/python3.6/dist-packages/keras/backend/tensorflow_backend.py:223: The name tf.variables_initializer is deprecated. Please use tf.compat.v1.variables_initializer instead.\n",
            "\n",
            "1712/1712 [==============================] - 15s 9ms/step - loss: 0.0063 - val_loss: 0.0020\n",
            "\n",
            "Epoch 00001: val_loss improved from inf to 0.00204, saving model to best_weights.h5\n",
            "Epoch 2/150\n",
            "1712/1712 [==============================] - 14s 8ms/step - loss: 0.0016 - val_loss: 0.0019\n",
            "\n",
            "Epoch 00002: val_loss improved from 0.00204 to 0.00190, saving model to best_weights.h5\n",
            "Epoch 3/150\n",
            "1712/1712 [==============================] - 14s 8ms/step - loss: 0.0013 - val_loss: 0.0019\n",
            "\n",
            "Epoch 00003: val_loss did not improve from 0.00190\n",
            "Epoch 4/150\n",
            "1712/1712 [==============================] - 14s 8ms/step - loss: 0.0012 - val_loss: 0.0018\n",
            "\n",
            "Epoch 00004: val_loss improved from 0.00190 to 0.00184, saving model to best_weights.h5\n",
            "Epoch 5/150\n",
            "1712/1712 [==============================] - 14s 8ms/step - loss: 0.0011 - val_loss: 0.0018\n",
            "\n",
            "Epoch 00005: val_loss improved from 0.00184 to 0.00182, saving model to best_weights.h5\n",
            "Epoch 6/150\n",
            "1712/1712 [==============================] - 14s 8ms/step - loss: 9.5939e-04 - val_loss: 0.0016\n",
            "\n",
            "Epoch 00006: val_loss improved from 0.00182 to 0.00164, saving model to best_weights.h5\n",
            "Epoch 7/150\n",
            "1712/1712 [==============================] - 14s 8ms/step - loss: 7.8985e-04 - val_loss: 0.0015\n",
            "\n",
            "Epoch 00007: val_loss improved from 0.00164 to 0.00150, saving model to best_weights.h5\n",
            "Epoch 8/150\n",
            "1712/1712 [==============================] - 14s 8ms/step - loss: 6.7982e-04 - val_loss: 0.0013\n",
            "\n",
            "Epoch 00008: val_loss improved from 0.00150 to 0.00132, saving model to best_weights.h5\n",
            "Epoch 9/150\n",
            "1712/1712 [==============================] - 14s 8ms/step - loss: 5.8290e-04 - val_loss: 0.0012\n",
            "\n",
            "Epoch 00009: val_loss improved from 0.00132 to 0.00119, saving model to best_weights.h5\n",
            "Epoch 10/150\n",
            "1712/1712 [==============================] - 14s 8ms/step - loss: 5.1977e-04 - val_loss: 0.0011\n",
            "\n",
            "Epoch 00010: val_loss improved from 0.00119 to 0.00110, saving model to best_weights.h5\n",
            "Epoch 11/150\n",
            "1712/1712 [==============================] - 14s 8ms/step - loss: 4.8593e-04 - val_loss: 0.0010\n",
            "\n",
            "Epoch 00011: val_loss improved from 0.00110 to 0.00104, saving model to best_weights.h5\n",
            "Epoch 12/150\n",
            "1712/1712 [==============================] - 14s 8ms/step - loss: 4.4770e-04 - val_loss: 9.9930e-04\n",
            "\n",
            "Epoch 00012: val_loss improved from 0.00104 to 0.00100, saving model to best_weights.h5\n",
            "Epoch 13/150\n",
            "1712/1712 [==============================] - 14s 8ms/step - loss: 4.2489e-04 - val_loss: 9.3062e-04\n",
            "\n",
            "Epoch 00013: val_loss improved from 0.00100 to 0.00093, saving model to best_weights.h5\n",
            "Epoch 14/150\n",
            "1712/1712 [==============================] - 14s 8ms/step - loss: 3.9661e-04 - val_loss: 9.2244e-04\n",
            "\n",
            "Epoch 00014: val_loss improved from 0.00093 to 0.00092, saving model to best_weights.h5\n",
            "Epoch 15/150\n",
            "1712/1712 [==============================] - 14s 8ms/step - loss: 3.8218e-04 - val_loss: 8.4034e-04\n",
            "\n",
            "Epoch 00015: val_loss improved from 0.00092 to 0.00084, saving model to best_weights.h5\n",
            "Epoch 16/150\n",
            "1712/1712 [==============================] - 14s 8ms/step - loss: 3.5546e-04 - val_loss: 8.6574e-04\n",
            "\n",
            "Epoch 00016: val_loss did not improve from 0.00084\n",
            "Epoch 17/150\n",
            "1712/1712 [==============================] - 14s 8ms/step - loss: 3.3809e-04 - val_loss: 8.8353e-04\n",
            "\n",
            "Epoch 00017: val_loss did not improve from 0.00084\n",
            "Epoch 18/150\n",
            "1712/1712 [==============================] - 14s 8ms/step - loss: 3.2790e-04 - val_loss: 7.9726e-04\n",
            "\n",
            "Epoch 00018: val_loss improved from 0.00084 to 0.00080, saving model to best_weights.h5\n",
            "Epoch 19/150\n",
            "1712/1712 [==============================] - 14s 8ms/step - loss: 3.2469e-04 - val_loss: 7.8897e-04\n",
            "\n",
            "Epoch 00019: val_loss improved from 0.00080 to 0.00079, saving model to best_weights.h5\n",
            "Epoch 20/150\n",
            "1712/1712 [==============================] - 14s 8ms/step - loss: 3.1699e-04 - val_loss: 8.1496e-04\n",
            "\n",
            "Epoch 00020: val_loss did not improve from 0.00079\n",
            "Epoch 21/150\n",
            "1712/1712 [==============================] - 14s 8ms/step - loss: 3.0596e-04 - val_loss: 7.6609e-04\n",
            "\n",
            "Epoch 00021: val_loss improved from 0.00079 to 0.00077, saving model to best_weights.h5\n",
            "Epoch 22/150\n",
            "1712/1712 [==============================] - 14s 8ms/step - loss: 2.9406e-04 - val_loss: 7.7549e-04\n",
            "\n",
            "Epoch 00022: val_loss did not improve from 0.00077\n",
            "Epoch 23/150\n",
            "1712/1712 [==============================] - 14s 8ms/step - loss: 2.8439e-04 - val_loss: 7.5646e-04\n",
            "\n",
            "Epoch 00023: val_loss improved from 0.00077 to 0.00076, saving model to best_weights.h5\n",
            "Epoch 24/150\n",
            "1712/1712 [==============================] - 14s 8ms/step - loss: 2.8551e-04 - val_loss: 7.7805e-04\n",
            "\n",
            "Epoch 00024: val_loss did not improve from 0.00076\n",
            "Epoch 25/150\n",
            "1712/1712 [==============================] - 14s 8ms/step - loss: 2.7258e-04 - val_loss: 7.5417e-04\n",
            "\n",
            "Epoch 00025: val_loss improved from 0.00076 to 0.00075, saving model to best_weights.h5\n",
            "Epoch 26/150\n",
            "1712/1712 [==============================] - 14s 8ms/step - loss: 2.5641e-04 - val_loss: 7.5898e-04\n",
            "\n",
            "Epoch 00026: val_loss did not improve from 0.00075\n",
            "Epoch 27/150\n",
            "1712/1712 [==============================] - 14s 8ms/step - loss: 2.5663e-04 - val_loss: 7.3515e-04\n",
            "\n",
            "Epoch 00027: val_loss improved from 0.00075 to 0.00074, saving model to best_weights.h5\n",
            "Epoch 28/150\n",
            "1712/1712 [==============================] - 14s 8ms/step - loss: 2.5932e-04 - val_loss: 7.3608e-04\n",
            "\n",
            "Epoch 00028: val_loss did not improve from 0.00074\n",
            "Epoch 29/150\n",
            "1712/1712 [==============================] - 14s 8ms/step - loss: 2.4370e-04 - val_loss: 7.7099e-04\n",
            "\n",
            "Epoch 00029: val_loss did not improve from 0.00074\n",
            "Epoch 30/150\n",
            "1712/1712 [==============================] - 14s 8ms/step - loss: 2.4583e-04 - val_loss: 7.3372e-04\n",
            "\n",
            "Epoch 00030: val_loss improved from 0.00074 to 0.00073, saving model to best_weights.h5\n",
            "Epoch 31/150\n",
            "1712/1712 [==============================] - 14s 8ms/step - loss: 2.3130e-04 - val_loss: 7.2989e-04\n",
            "\n",
            "Epoch 00031: val_loss improved from 0.00073 to 0.00073, saving model to best_weights.h5\n",
            "Epoch 32/150\n",
            "1712/1712 [==============================] - 14s 8ms/step - loss: 2.2923e-04 - val_loss: 7.1732e-04\n",
            "\n",
            "Epoch 00032: val_loss improved from 0.00073 to 0.00072, saving model to best_weights.h5\n",
            "Epoch 33/150\n",
            "1712/1712 [==============================] - 14s 8ms/step - loss: 2.3249e-04 - val_loss: 7.1606e-04\n",
            "\n",
            "Epoch 00033: val_loss improved from 0.00072 to 0.00072, saving model to best_weights.h5\n",
            "Epoch 34/150\n",
            "1712/1712 [==============================] - 14s 8ms/step - loss: 2.2026e-04 - val_loss: 7.1851e-04\n",
            "\n",
            "Epoch 00034: val_loss did not improve from 0.00072\n",
            "Epoch 35/150\n",
            "1712/1712 [==============================] - 14s 8ms/step - loss: 2.2684e-04 - val_loss: 7.0835e-04\n",
            "\n",
            "Epoch 00035: val_loss improved from 0.00072 to 0.00071, saving model to best_weights.h5\n",
            "Epoch 36/150\n",
            "1712/1712 [==============================] - 14s 8ms/step - loss: 2.1462e-04 - val_loss: 7.1263e-04\n",
            "\n",
            "Epoch 00036: val_loss did not improve from 0.00071\n",
            "Epoch 37/150\n",
            "1712/1712 [==============================] - 14s 8ms/step - loss: 2.1202e-04 - val_loss: 7.2039e-04\n",
            "\n",
            "Epoch 00037: val_loss did not improve from 0.00071\n",
            "Epoch 38/150\n",
            "1712/1712 [==============================] - 14s 8ms/step - loss: 2.0729e-04 - val_loss: 7.2950e-04\n",
            "\n",
            "Epoch 00038: val_loss did not improve from 0.00071\n",
            "Epoch 39/150\n",
            "1712/1712 [==============================] - 14s 8ms/step - loss: 2.0699e-04 - val_loss: 7.0218e-04\n",
            "\n",
            "Epoch 00039: val_loss improved from 0.00071 to 0.00070, saving model to best_weights.h5\n",
            "Epoch 40/150\n",
            "1712/1712 [==============================] - 14s 8ms/step - loss: 2.0575e-04 - val_loss: 7.4808e-04\n",
            "\n",
            "Epoch 00040: val_loss did not improve from 0.00070\n",
            "Epoch 41/150\n",
            "1712/1712 [==============================] - 14s 8ms/step - loss: 1.9592e-04 - val_loss: 7.0913e-04\n",
            "\n",
            "Epoch 00041: val_loss did not improve from 0.00070\n",
            "Epoch 42/150\n",
            "1712/1712 [==============================] - 14s 8ms/step - loss: 2.0464e-04 - val_loss: 7.4776e-04\n",
            "\n",
            "Epoch 00042: val_loss did not improve from 0.00070\n",
            "Epoch 43/150\n",
            "1712/1712 [==============================] - 14s 8ms/step - loss: 1.9527e-04 - val_loss: 7.0187e-04\n",
            "\n",
            "Epoch 00043: val_loss improved from 0.00070 to 0.00070, saving model to best_weights.h5\n",
            "Epoch 44/150\n",
            "1712/1712 [==============================] - 14s 8ms/step - loss: 1.9049e-04 - val_loss: 7.0509e-04\n",
            "\n",
            "Epoch 00044: val_loss did not improve from 0.00070\n",
            "Epoch 45/150\n",
            "1712/1712 [==============================] - 14s 8ms/step - loss: 1.8896e-04 - val_loss: 6.9078e-04\n",
            "\n",
            "Epoch 00045: val_loss improved from 0.00070 to 0.00069, saving model to best_weights.h5\n",
            "Epoch 46/150\n",
            "1712/1712 [==============================] - 14s 8ms/step - loss: 1.8083e-04 - val_loss: 6.9772e-04\n",
            "\n",
            "Epoch 00046: val_loss did not improve from 0.00069\n",
            "Epoch 47/150\n",
            "1712/1712 [==============================] - 14s 8ms/step - loss: 1.8197e-04 - val_loss: 6.9739e-04\n",
            "\n",
            "Epoch 00047: val_loss did not improve from 0.00069\n",
            "Epoch 48/150\n",
            "1712/1712 [==============================] - 14s 8ms/step - loss: 1.7970e-04 - val_loss: 7.8488e-04\n",
            "\n",
            "Epoch 00048: val_loss did not improve from 0.00069\n",
            "Epoch 49/150\n",
            "1712/1712 [==============================] - 14s 8ms/step - loss: 1.8391e-04 - val_loss: 6.8178e-04\n",
            "\n",
            "Epoch 00049: val_loss improved from 0.00069 to 0.00068, saving model to best_weights.h5\n",
            "Epoch 50/150\n",
            "1712/1712 [==============================] - 14s 8ms/step - loss: 1.7448e-04 - val_loss: 7.0354e-04\n",
            "\n",
            "Epoch 00050: val_loss did not improve from 0.00068\n",
            "Epoch 51/150\n",
            "1712/1712 [==============================] - 14s 8ms/step - loss: 1.7267e-04 - val_loss: 7.2194e-04\n",
            "\n",
            "Epoch 00051: val_loss did not improve from 0.00068\n",
            "Epoch 52/150\n",
            "1712/1712 [==============================] - 14s 8ms/step - loss: 1.7202e-04 - val_loss: 6.9827e-04\n",
            "\n",
            "Epoch 00052: val_loss did not improve from 0.00068\n",
            "Epoch 53/150\n",
            "1712/1712 [==============================] - 14s 8ms/step - loss: 1.7018e-04 - val_loss: 7.0306e-04\n",
            "\n",
            "Epoch 00053: val_loss did not improve from 0.00068\n",
            "Epoch 54/150\n",
            "1712/1712 [==============================] - 14s 8ms/step - loss: 1.6597e-04 - val_loss: 7.2468e-04\n",
            "\n",
            "Epoch 00054: val_loss did not improve from 0.00068\n",
            "Epoch 55/150\n",
            "1712/1712 [==============================] - 14s 8ms/step - loss: 1.6634e-04 - val_loss: 7.2409e-04\n",
            "\n",
            "Epoch 00055: val_loss did not improve from 0.00068\n",
            "Epoch 56/150\n",
            "1712/1712 [==============================] - 14s 8ms/step - loss: 1.6844e-04 - val_loss: 6.7671e-04\n",
            "\n",
            "Epoch 00056: val_loss improved from 0.00068 to 0.00068, saving model to best_weights.h5\n",
            "Epoch 57/150\n",
            "1712/1712 [==============================] - 14s 8ms/step - loss: 1.5855e-04 - val_loss: 7.1451e-04\n",
            "\n",
            "Epoch 00057: val_loss did not improve from 0.00068\n",
            "Epoch 58/150\n",
            "1712/1712 [==============================] - 14s 8ms/step - loss: 1.5769e-04 - val_loss: 7.0490e-04\n",
            "\n",
            "Epoch 00058: val_loss did not improve from 0.00068\n",
            "Epoch 59/150\n",
            "1712/1712 [==============================] - 14s 8ms/step - loss: 1.6638e-04 - val_loss: 6.9587e-04\n",
            "\n",
            "Epoch 00059: val_loss did not improve from 0.00068\n",
            "Epoch 60/150\n",
            "1712/1712 [==============================] - 14s 8ms/step - loss: 1.6669e-04 - val_loss: 7.1805e-04\n",
            "\n",
            "Epoch 00060: val_loss did not improve from 0.00068\n",
            "Epoch 61/150\n",
            "1712/1712 [==============================] - 14s 8ms/step - loss: 1.5310e-04 - val_loss: 6.9869e-04\n",
            "\n",
            "Epoch 00061: val_loss did not improve from 0.00068\n",
            "Epoch 62/150\n",
            "1712/1712 [==============================] - 14s 8ms/step - loss: 1.5526e-04 - val_loss: 6.8421e-04\n",
            "\n",
            "Epoch 00062: val_loss did not improve from 0.00068\n",
            "Epoch 63/150\n",
            "1712/1712 [==============================] - 14s 8ms/step - loss: 1.5031e-04 - val_loss: 6.9165e-04\n",
            "\n",
            "Epoch 00063: val_loss did not improve from 0.00068\n",
            "Epoch 64/150\n",
            "1712/1712 [==============================] - 14s 8ms/step - loss: 1.5430e-04 - val_loss: 6.9917e-04\n",
            "\n",
            "Epoch 00064: val_loss did not improve from 0.00068\n",
            "Epoch 65/150\n",
            "1712/1712 [==============================] - 14s 8ms/step - loss: 1.5120e-04 - val_loss: 6.8734e-04\n",
            "\n",
            "Epoch 00065: val_loss did not improve from 0.00068\n",
            "Epoch 66/150\n",
            "1712/1712 [==============================] - 14s 8ms/step - loss: 1.4849e-04 - val_loss: 6.8599e-04\n",
            "\n",
            "Epoch 00066: val_loss did not improve from 0.00068\n",
            "Epoch 67/150\n",
            "1712/1712 [==============================] - 14s 8ms/step - loss: 1.4765e-04 - val_loss: 7.1367e-04\n",
            "\n",
            "Epoch 00067: val_loss did not improve from 0.00068\n",
            "Epoch 68/150\n",
            "1712/1712 [==============================] - 14s 8ms/step - loss: 1.4386e-04 - val_loss: 7.0697e-04\n",
            "\n",
            "Epoch 00068: val_loss did not improve from 0.00068\n",
            "Epoch 69/150\n",
            "1712/1712 [==============================] - 14s 8ms/step - loss: 1.4971e-04 - val_loss: 7.5731e-04\n",
            "\n",
            "Epoch 00069: val_loss did not improve from 0.00068\n",
            "Epoch 70/150\n",
            "1712/1712 [==============================] - 14s 8ms/step - loss: 1.5069e-04 - val_loss: 7.0014e-04\n",
            "\n",
            "Epoch 00070: val_loss did not improve from 0.00068\n",
            "Epoch 71/150\n",
            "1712/1712 [==============================] - 14s 8ms/step - loss: 1.3952e-04 - val_loss: 7.1323e-04\n",
            "\n",
            "Epoch 00071: val_loss did not improve from 0.00068\n",
            "Epoch 72/150\n",
            "1712/1712 [==============================] - 14s 8ms/step - loss: 1.4498e-04 - val_loss: 6.9570e-04\n",
            "\n",
            "Epoch 00072: val_loss did not improve from 0.00068\n",
            "Epoch 73/150\n",
            "1712/1712 [==============================] - 14s 8ms/step - loss: 1.3901e-04 - val_loss: 6.8706e-04\n",
            "\n",
            "Epoch 00073: val_loss did not improve from 0.00068\n",
            "Epoch 74/150\n",
            "1712/1712 [==============================] - 14s 8ms/step - loss: 1.3976e-04 - val_loss: 7.0730e-04\n",
            "\n",
            "Epoch 00074: val_loss did not improve from 0.00068\n",
            "Epoch 75/150\n",
            "1712/1712 [==============================] - 14s 8ms/step - loss: 1.3783e-04 - val_loss: 6.8862e-04\n",
            "\n",
            "Epoch 00075: val_loss did not improve from 0.00068\n",
            "Epoch 76/150\n",
            "1712/1712 [==============================] - 14s 8ms/step - loss: 1.3778e-04 - val_loss: 7.2345e-04\n",
            "\n",
            "Epoch 00076: val_loss did not improve from 0.00068\n",
            "Epoch 77/150\n",
            "1712/1712 [==============================] - 14s 8ms/step - loss: 1.3739e-04 - val_loss: 6.8012e-04\n",
            "\n",
            "Epoch 00077: val_loss did not improve from 0.00068\n",
            "Epoch 78/150\n",
            "1712/1712 [==============================] - 14s 8ms/step - loss: 1.3357e-04 - val_loss: 6.6350e-04\n",
            "\n",
            "Epoch 00078: val_loss improved from 0.00068 to 0.00066, saving model to best_weights.h5\n",
            "Epoch 79/150\n",
            "1712/1712 [==============================] - 14s 8ms/step - loss: 1.3347e-04 - val_loss: 6.9263e-04\n",
            "\n",
            "Epoch 00079: val_loss did not improve from 0.00066\n",
            "Epoch 80/150\n",
            "1712/1712 [==============================] - 14s 8ms/step - loss: 1.3401e-04 - val_loss: 6.9917e-04\n",
            "\n",
            "Epoch 00080: val_loss did not improve from 0.00066\n",
            "Epoch 81/150\n",
            "1712/1712 [==============================] - 14s 8ms/step - loss: 1.3097e-04 - val_loss: 6.8916e-04\n",
            "\n",
            "Epoch 00081: val_loss did not improve from 0.00066\n",
            "Epoch 82/150\n",
            "1712/1712 [==============================] - 14s 8ms/step - loss: 1.3037e-04 - val_loss: 6.8693e-04\n",
            "\n",
            "Epoch 00082: val_loss did not improve from 0.00066\n",
            "Epoch 83/150\n",
            "1712/1712 [==============================] - 14s 8ms/step - loss: 1.3054e-04 - val_loss: 6.8782e-04\n",
            "\n",
            "Epoch 00083: val_loss did not improve from 0.00066\n",
            "Epoch 84/150\n",
            "1712/1712 [==============================] - 14s 8ms/step - loss: 1.2649e-04 - val_loss: 6.8964e-04\n",
            "\n",
            "Epoch 00084: val_loss did not improve from 0.00066\n",
            "Epoch 85/150\n",
            "1712/1712 [==============================] - 14s 8ms/step - loss: 1.2489e-04 - val_loss: 7.2079e-04\n",
            "\n",
            "Epoch 00085: val_loss did not improve from 0.00066\n",
            "Epoch 86/150\n",
            "1712/1712 [==============================] - 14s 8ms/step - loss: 1.2851e-04 - val_loss: 6.8526e-04\n",
            "\n",
            "Epoch 00086: val_loss did not improve from 0.00066\n",
            "Epoch 87/150\n",
            "1712/1712 [==============================] - 14s 8ms/step - loss: 1.2430e-04 - val_loss: 7.1082e-04\n",
            "\n",
            "Epoch 00087: val_loss did not improve from 0.00066\n",
            "Epoch 88/150\n",
            "1712/1712 [==============================] - 14s 8ms/step - loss: 1.2071e-04 - val_loss: 7.0238e-04\n",
            "\n",
            "Epoch 00088: val_loss did not improve from 0.00066\n",
            "Epoch 89/150\n",
            "1712/1712 [==============================] - 14s 8ms/step - loss: 1.2202e-04 - val_loss: 7.1881e-04\n",
            "\n",
            "Epoch 00089: val_loss did not improve from 0.00066\n",
            "Epoch 90/150\n",
            "1712/1712 [==============================] - 14s 8ms/step - loss: 1.2098e-04 - val_loss: 7.0571e-04\n",
            "\n",
            "Epoch 00090: val_loss did not improve from 0.00066\n",
            "Epoch 91/150\n",
            "1712/1712 [==============================] - 14s 8ms/step - loss: 1.2323e-04 - val_loss: 7.0713e-04\n",
            "\n",
            "Epoch 00091: val_loss did not improve from 0.00066\n",
            "Epoch 92/150\n",
            "1712/1712 [==============================] - 14s 8ms/step - loss: 1.2068e-04 - val_loss: 7.1100e-04\n",
            "\n",
            "Epoch 00092: val_loss did not improve from 0.00066\n",
            "Epoch 93/150\n",
            "1712/1712 [==============================] - 15s 9ms/step - loss: 1.1762e-04 - val_loss: 7.2141e-04\n",
            "\n",
            "Epoch 00093: val_loss did not improve from 0.00066\n",
            "Epoch 94/150\n",
            "1712/1712 [==============================] - 14s 8ms/step - loss: 1.1861e-04 - val_loss: 6.9710e-04\n",
            "\n",
            "Epoch 00094: val_loss did not improve from 0.00066\n",
            "Epoch 95/150\n",
            "1712/1712 [==============================] - 14s 8ms/step - loss: 1.2048e-04 - val_loss: 6.7190e-04\n",
            "\n",
            "Epoch 00095: val_loss did not improve from 0.00066\n",
            "Epoch 96/150\n",
            "1712/1712 [==============================] - 14s 8ms/step - loss: 1.1228e-04 - val_loss: 7.1010e-04\n",
            "\n",
            "Epoch 00096: val_loss did not improve from 0.00066\n",
            "Epoch 97/150\n",
            "1712/1712 [==============================] - 14s 8ms/step - loss: 1.1441e-04 - val_loss: 6.9763e-04\n",
            "\n",
            "Epoch 00097: val_loss did not improve from 0.00066\n",
            "Epoch 98/150\n",
            "1712/1712 [==============================] - 14s 8ms/step - loss: 1.1123e-04 - val_loss: 6.6612e-04\n",
            "\n",
            "Epoch 00098: val_loss did not improve from 0.00066\n",
            "Epoch 99/150\n",
            "1712/1712 [==============================] - 14s 8ms/step - loss: 1.1319e-04 - val_loss: 7.0493e-04\n",
            "\n",
            "Epoch 00099: val_loss did not improve from 0.00066\n",
            "Epoch 100/150\n",
            "1712/1712 [==============================] - 14s 8ms/step - loss: 1.1334e-04 - val_loss: 6.9507e-04\n",
            "\n",
            "Epoch 00100: val_loss did not improve from 0.00066\n",
            "Epoch 101/150\n",
            "1712/1712 [==============================] - 14s 8ms/step - loss: 1.1076e-04 - val_loss: 6.8289e-04\n",
            "\n",
            "Epoch 00101: val_loss did not improve from 0.00066\n",
            "Epoch 102/150\n",
            "1712/1712 [==============================] - 14s 8ms/step - loss: 1.1264e-04 - val_loss: 6.8427e-04\n",
            "\n",
            "Epoch 00102: val_loss did not improve from 0.00066\n",
            "Epoch 103/150\n",
            "1712/1712 [==============================] - 14s 8ms/step - loss: 1.0979e-04 - val_loss: 7.0087e-04\n",
            "\n",
            "Epoch 00103: val_loss did not improve from 0.00066\n",
            "Epoch 104/150\n",
            "1712/1712 [==============================] - 14s 8ms/step - loss: 1.1281e-04 - val_loss: 7.0152e-04\n",
            "\n",
            "Epoch 00104: val_loss did not improve from 0.00066\n",
            "Epoch 105/150\n",
            "1712/1712 [==============================] - 14s 8ms/step - loss: 1.0922e-04 - val_loss: 7.1478e-04\n",
            "\n",
            "Epoch 00105: val_loss did not improve from 0.00066\n",
            "Epoch 106/150\n",
            "1712/1712 [==============================] - 15s 9ms/step - loss: 1.0324e-04 - val_loss: 6.9227e-04\n",
            "\n",
            "Epoch 00106: val_loss did not improve from 0.00066\n",
            "Epoch 107/150\n",
            "1712/1712 [==============================] - 15s 9ms/step - loss: 1.0232e-04 - val_loss: 6.9291e-04\n",
            "\n",
            "Epoch 00107: val_loss did not improve from 0.00066\n",
            "Epoch 108/150\n",
            "1712/1712 [==============================] - 14s 8ms/step - loss: 1.0335e-04 - val_loss: 7.0172e-04\n",
            "\n",
            "Epoch 00108: val_loss did not improve from 0.00066\n",
            "Epoch 109/150\n",
            "1712/1712 [==============================] - 14s 8ms/step - loss: 1.0733e-04 - val_loss: 7.0479e-04\n",
            "\n",
            "Epoch 00109: val_loss did not improve from 0.00066\n",
            "Epoch 110/150\n",
            "1712/1712 [==============================] - 15s 9ms/step - loss: 1.0471e-04 - val_loss: 6.9394e-04\n",
            "\n",
            "Epoch 00110: val_loss did not improve from 0.00066\n",
            "Epoch 111/150\n",
            "1712/1712 [==============================] - 15s 9ms/step - loss: 1.0562e-04 - val_loss: 6.7988e-04\n",
            "\n",
            "Epoch 00111: val_loss did not improve from 0.00066\n",
            "Epoch 112/150\n",
            "1712/1712 [==============================] - 15s 9ms/step - loss: 1.0395e-04 - val_loss: 7.0694e-04\n",
            "\n",
            "Epoch 00112: val_loss did not improve from 0.00066\n",
            "Epoch 113/150\n",
            "1712/1712 [==============================] - 15s 9ms/step - loss: 1.0213e-04 - val_loss: 7.2497e-04\n",
            "\n",
            "Epoch 00113: val_loss did not improve from 0.00066\n",
            "Epoch 114/150\n",
            "1712/1712 [==============================] - 15s 9ms/step - loss: 1.0409e-04 - val_loss: 6.8878e-04\n",
            "\n",
            "Epoch 00114: val_loss did not improve from 0.00066\n",
            "Epoch 115/150\n",
            "1712/1712 [==============================] - 16s 9ms/step - loss: 1.0368e-04 - val_loss: 7.4348e-04\n",
            "\n",
            "Epoch 00115: val_loss did not improve from 0.00066\n",
            "Epoch 116/150\n",
            "1712/1712 [==============================] - 15s 9ms/step - loss: 1.0501e-04 - val_loss: 7.0117e-04\n",
            "\n",
            "Epoch 00116: val_loss did not improve from 0.00066\n",
            "Epoch 117/150\n",
            "1712/1712 [==============================] - 15s 9ms/step - loss: 9.8346e-05 - val_loss: 6.8969e-04\n",
            "\n",
            "Epoch 00117: val_loss did not improve from 0.00066\n",
            "Epoch 118/150\n",
            "1712/1712 [==============================] - 15s 9ms/step - loss: 9.8920e-05 - val_loss: 7.1902e-04\n",
            "\n",
            "Epoch 00118: val_loss did not improve from 0.00066\n",
            "Epoch 119/150\n",
            "1712/1712 [==============================] - 15s 9ms/step - loss: 9.4731e-05 - val_loss: 7.2185e-04\n",
            "\n",
            "Epoch 00119: val_loss did not improve from 0.00066\n",
            "Epoch 120/150\n",
            "1712/1712 [==============================] - 15s 9ms/step - loss: 9.5624e-05 - val_loss: 7.3201e-04\n",
            "\n",
            "Epoch 00120: val_loss did not improve from 0.00066\n",
            "Epoch 121/150\n",
            "1712/1712 [==============================] - 14s 8ms/step - loss: 9.7791e-05 - val_loss: 6.9055e-04\n",
            "\n",
            "Epoch 00121: val_loss did not improve from 0.00066\n",
            "Epoch 122/150\n",
            "1712/1712 [==============================] - 14s 8ms/step - loss: 9.6186e-05 - val_loss: 6.9523e-04\n",
            "\n",
            "Epoch 00122: val_loss did not improve from 0.00066\n",
            "Epoch 123/150\n",
            "1712/1712 [==============================] - 15s 8ms/step - loss: 9.6471e-05 - val_loss: 6.9828e-04\n",
            "\n",
            "Epoch 00123: val_loss did not improve from 0.00066\n",
            "Epoch 124/150\n",
            "1712/1712 [==============================] - 14s 8ms/step - loss: 9.5063e-05 - val_loss: 6.8253e-04\n",
            "\n",
            "Epoch 00124: val_loss did not improve from 0.00066\n",
            "Epoch 125/150\n",
            "1712/1712 [==============================] - 14s 8ms/step - loss: 9.8027e-05 - val_loss: 7.1287e-04\n",
            "\n",
            "Epoch 00125: val_loss did not improve from 0.00066\n",
            "Epoch 126/150\n",
            "1712/1712 [==============================] - 14s 8ms/step - loss: 9.3627e-05 - val_loss: 7.3238e-04\n",
            "\n",
            "Epoch 00126: val_loss did not improve from 0.00066\n",
            "Epoch 127/150\n",
            "1712/1712 [==============================] - 14s 8ms/step - loss: 9.7266e-05 - val_loss: 7.2767e-04\n",
            "\n",
            "Epoch 00127: val_loss did not improve from 0.00066\n",
            "Epoch 128/150\n",
            "1712/1712 [==============================] - 14s 8ms/step - loss: 9.5297e-05 - val_loss: 7.4310e-04\n",
            "\n",
            "Epoch 00128: val_loss did not improve from 0.00066\n",
            "Epoch 129/150\n",
            "1712/1712 [==============================] - 14s 8ms/step - loss: 9.6671e-05 - val_loss: 7.3145e-04\n",
            "\n",
            "Epoch 00129: val_loss did not improve from 0.00066\n",
            "Epoch 130/150\n",
            "1712/1712 [==============================] - 14s 8ms/step - loss: 9.4218e-05 - val_loss: 6.9838e-04\n",
            "\n",
            "Epoch 00130: val_loss did not improve from 0.00066\n",
            "Epoch 131/150\n",
            "1712/1712 [==============================] - 15s 9ms/step - loss: 9.1603e-05 - val_loss: 6.9261e-04\n",
            "\n",
            "Epoch 00131: val_loss did not improve from 0.00066\n",
            "Epoch 132/150\n",
            "1712/1712 [==============================] - 14s 8ms/step - loss: 9.4659e-05 - val_loss: 6.8910e-04\n",
            "\n",
            "Epoch 00132: val_loss did not improve from 0.00066\n",
            "Epoch 133/150\n",
            "1712/1712 [==============================] - 14s 8ms/step - loss: 9.2342e-05 - val_loss: 7.1164e-04\n",
            "\n",
            "Epoch 00133: val_loss did not improve from 0.00066\n",
            "Epoch 134/150\n",
            "1712/1712 [==============================] - 14s 8ms/step - loss: 9.0621e-05 - val_loss: 6.9374e-04\n",
            "\n",
            "Epoch 00134: val_loss did not improve from 0.00066\n",
            "Epoch 135/150\n",
            "1712/1712 [==============================] - 14s 8ms/step - loss: 9.2028e-05 - val_loss: 6.8149e-04\n",
            "\n",
            "Epoch 00135: val_loss did not improve from 0.00066\n",
            "Epoch 136/150\n",
            "1712/1712 [==============================] - 14s 8ms/step - loss: 8.8340e-05 - val_loss: 7.2197e-04\n",
            "\n",
            "Epoch 00136: val_loss did not improve from 0.00066\n",
            "Epoch 137/150\n",
            "1712/1712 [==============================] - 15s 9ms/step - loss: 8.7865e-05 - val_loss: 6.9862e-04\n",
            "\n",
            "Epoch 00137: val_loss did not improve from 0.00066\n",
            "Epoch 138/150\n",
            "1712/1712 [==============================] - 14s 8ms/step - loss: 9.1763e-05 - val_loss: 6.8916e-04\n",
            "\n",
            "Epoch 00138: val_loss did not improve from 0.00066\n",
            "Epoch 139/150\n",
            "1712/1712 [==============================] - 14s 8ms/step - loss: 9.0155e-05 - val_loss: 7.3639e-04\n",
            "\n",
            "Epoch 00139: val_loss did not improve from 0.00066\n",
            "Epoch 140/150\n",
            "1712/1712 [==============================] - 14s 8ms/step - loss: 8.7286e-05 - val_loss: 7.4306e-04\n",
            "\n",
            "Epoch 00140: val_loss did not improve from 0.00066\n",
            "Epoch 141/150\n",
            "1712/1712 [==============================] - 15s 9ms/step - loss: 9.0404e-05 - val_loss: 7.2590e-04\n",
            "\n",
            "Epoch 00141: val_loss did not improve from 0.00066\n",
            "Epoch 142/150\n",
            "1712/1712 [==============================] - 14s 8ms/step - loss: 8.8510e-05 - val_loss: 7.1343e-04\n",
            "\n",
            "Epoch 00142: val_loss did not improve from 0.00066\n",
            "Epoch 143/150\n",
            "1712/1712 [==============================] - 14s 8ms/step - loss: 8.7017e-05 - val_loss: 7.2902e-04\n",
            "\n",
            "Epoch 00143: val_loss did not improve from 0.00066\n",
            "Epoch 144/150\n",
            "1712/1712 [==============================] - 14s 8ms/step - loss: 8.5296e-05 - val_loss: 7.1711e-04\n",
            "\n",
            "Epoch 00144: val_loss did not improve from 0.00066\n",
            "Epoch 145/150\n",
            "1712/1712 [==============================] - 15s 9ms/step - loss: 8.6073e-05 - val_loss: 7.1296e-04\n",
            "\n",
            "Epoch 00145: val_loss did not improve from 0.00066\n",
            "Epoch 146/150\n",
            "1712/1712 [==============================] - 14s 8ms/step - loss: 8.5654e-05 - val_loss: 7.1065e-04\n",
            "\n",
            "Epoch 00146: val_loss did not improve from 0.00066\n",
            "Epoch 147/150\n",
            "1712/1712 [==============================] - 14s 8ms/step - loss: 8.3614e-05 - val_loss: 7.0941e-04\n",
            "\n",
            "Epoch 00147: val_loss did not improve from 0.00066\n",
            "Epoch 148/150\n",
            "1712/1712 [==============================] - 14s 8ms/step - loss: 8.3896e-05 - val_loss: 7.1699e-04\n",
            "\n",
            "Epoch 00148: val_loss did not improve from 0.00066\n",
            "Epoch 149/150\n",
            "1712/1712 [==============================] - 14s 8ms/step - loss: 8.1306e-05 - val_loss: 6.8903e-04\n",
            "\n",
            "Epoch 00149: val_loss did not improve from 0.00066\n",
            "Epoch 150/150\n",
            "1712/1712 [==============================] - 14s 8ms/step - loss: 8.6914e-05 - val_loss: 7.0967e-04\n",
            "\n",
            "Epoch 00150: val_loss did not improve from 0.00066\n"
          ],
          "name": "stdout"
        }
      ]
    },
    {
      "cell_type": "code",
      "metadata": {
        "id": "_UI2dvr1IjYV",
        "colab_type": "code",
        "colab": {}
      },
      "source": [
        "sample_img = imgs_train[0] # 選一張圖片做人臉濾鏡的樣本\n",
        "sample_point = points_train[0]\n",
        "# 在灰階圖像上畫關鍵點的函數\n",
        "def plot_keypoints(img, points):\n",
        "    plt.imshow(img, cmap='gray')\n",
        "    for i in range(0,30,2):\n",
        "        plt.scatter((points[i] + 0.5)*96, (points[i+1]+0.5)*96, color='red')\n",
        "        plt.text((points[i] + 0.5)*96, (points[i+1]+0.5-0.05)*96, str(int(i/2))) # 把關鍵點 index 畫出來"
      ],
      "execution_count": 0,
      "outputs": []
    },
    {
      "cell_type": "code",
      "metadata": {
        "id": "-I-ddmuxIjYa",
        "colab_type": "code",
        "outputId": "1c88b91c-5b6b-4f68-de56-7dcde5f94dbd",
        "colab": {
          "base_uri": "https://localhost:8080/",
          "height": 268
        }
      },
      "source": [
        "plot_keypoints(sample_img, sample_point)"
      ],
      "execution_count": 0,
      "outputs": [
        {
          "output_type": "display_data",
          "data": {
            "image/png": "[encoded data removed]",
            "text/plain": [
              "<Figure size 432x288 with 1 Axes>"
            ]
          },
          "metadata": {
            "tags": []
          }
        }
      ]
    },
    {
      "cell_type": "markdown",
      "metadata": {
        "id": "ZIeznsreIjYe",
        "colab_type": "text"
      },
      "source": [
        "在我們應用人臉關鍵點時，不管資料集文件沒有寫清楚，都可以通過把 index 畫出來的方式來理解關鍵點的順序。"
      ]
    },
    {
      "cell_type": "code",
      "metadata": {
        "id": "wy8De8dPIjYi",
        "colab_type": "code",
        "outputId": "a6be2630-9c2c-4c33-f86a-aa7ecdb2d818",
        "colab": {
          "base_uri": "https://localhost:8080/",
          "height": 188
        }
      },
      "source": [
        "sunglasses = cv2.imread('sunglasses.png', cv2.IMREAD_UNCHANGED) # cv2.IMREAD_UNCHANGED 表示要讀取圖像透明度的 channel\n",
        "plt.imshow(sunglasses)"
      ],
      "execution_count": 0,
      "outputs": [
        {
          "output_type": "execute_result",
          "data": {
            "text/plain": [
              "<matplotlib.image.AxesImage at 0x7f4bbb7490b8>"
            ]
          },
          "metadata": {
            "tags": []
          },
          "execution_count": 18
        },
        {
          "output_type": "display_data",
          "data": {
            "image/png": "[encoded data removed]",
            "text/plain": [
              "<Figure size 432x288 with 1 Axes>"
            ]
          },
          "metadata": {
            "tags": []
          }
        }
      ]
    },
    {
      "cell_type": "markdown",
      "metadata": {
        "id": "eF6AhP8cIjYq",
        "colab_type": "text"
      },
      "source": [
        "接下來我們利用預測到的人臉關鍵點信息，把這個太陽眼鏡放到 sample_img 上\n",
        "\n",
        "**Note**: 這個太陽眼鏡的圖片必須是透明背景的 .png 哦，有興趣的同學也可以拿非透明背景的圖片來試看有什麼分別..."
      ]
    },
    {
      "cell_type": "code",
      "metadata": {
        "id": "Vxa5HgdQIjYt",
        "colab_type": "code",
        "colab": {}
      },
      "source": [
        "landmarks = model.predict(sample_img.reshape(-1, 96, 96, 1)) # 預測人臉關鍵點\n",
        "landmarks = (landmarks + 0.5) * 96 # 將預測的人臉關鍵點的數值範圍由 -0.5 ~ 0.5 轉回 0 ~ 96\n",
        "key_pts = landmarks.reshape(-1, 2)\n",
        "\n",
        "face_img = cv2.cvtColor((sample_img*255).astype(np.uint8), cv2.COLOR_GRAY2BGR) # 將灰階圖像轉為 BGR\n",
        "\n",
        "# 以下示範如何用檢測到的關鍵點去定義要增加太陽眼鏡濾鏡的坐標，\n",
        "# 其中使用的 key_pts index 就是由 plot_keypoints 所畫出來的 index 觀察而來\n",
        "sunglass_top_x = int(key_pts[9, 0]) # 在這裡選右眉毛的最外側 (也就是第 9 index) 做太陽眼鏡的最左邊\n",
        "sunglass_w = int(abs(key_pts[9, 0] - key_pts[7, 0])) # 在這裡選右眉毛最外側到左眉毛最外側 (也就是第 7、9 index) 做為太陽眼鏡的寬\n",
        "sunglass_top_y = int((key_pts[9, 1] + key_pts[5, 1]) / 2) # y 和 h 也是類似的道理了\n",
        "sunglass_h = int(abs(key_pts[8, 1] - key_pts[10, 1]) / 2)\n",
        "\n",
        "new_sunglasses =  cv2.resize(sunglasses, (sunglass_w, sunglass_h), interpolation = cv2.INTER_CUBIC)\n",
        "\n",
        "# roi 為要覆蓋太陽眼鏡的 BGR 人臉範圍\n",
        "roi = face_img[sunglass_top_y:sunglass_top_y+sunglass_h, sunglass_top_x:sunglass_top_x+sunglass_w]\n",
        "\n",
        "# 找出非透明的 pixel\n",
        "ind = np.argwhere(new_sunglasses[:,:,3] > 0)\n",
        "\n",
        "# 把 roi 中每個 channel 非透明的地方替換為太陽眼鏡的 pixel\n",
        "for i in range(3):\n",
        "    roi[ind[:,0],ind[:,1],i] = new_sunglasses[ind[:,0],ind[:,1],i]"
      ],
      "execution_count": 0,
      "outputs": []
    },
    {
      "cell_type": "code",
      "metadata": {
        "id": "pUW1nE32ZzlE",
        "colab_type": "code",
        "outputId": "f661215a-3012-47de-9009-963642014af0",
        "colab": {
          "base_uri": "https://localhost:8080/",
          "height": 34
        }
      },
      "source": [
        "ind.shape"
      ],
      "execution_count": 0,
      "outputs": [
        {
          "output_type": "execute_result",
          "data": {
            "text/plain": [
              "(642, 2)"
            ]
          },
          "metadata": {
            "tags": []
          },
          "execution_count": 25
        }
      ]
    },
    {
      "cell_type": "code",
      "metadata": {
        "id": "xGzLAkDnIjYx",
        "colab_type": "code",
        "outputId": "df7d3213-5b16-4b0a-c1a3-6c2236b2d770",
        "colab": {
          "base_uri": "https://localhost:8080/",
          "height": 285
        }
      },
      "source": [
        "plt.imshow(face_img)"
      ],
      "execution_count": 0,
      "outputs": [
        {
          "output_type": "execute_result",
          "data": {
            "text/plain": [
              "<matplotlib.image.AxesImage at 0x7f4bbb7294e0>"
            ]
          },
          "metadata": {
            "tags": []
          },
          "execution_count": 20
        },
        {
          "output_type": "display_data",
          "data": {
            "image/png": "[encoded data removed]",
            "text/plain": [
              "<Figure size 432x288 with 1 Axes>"
            ]
          },
          "metadata": {
            "tags": []
          }
        }
      ]
    },
    {
      "cell_type": "markdown",
      "metadata": {
        "id": "8SuMhr9oIjY0",
        "colab_type": "text"
      },
      "source": [
        "如此就完成一個簡單的太陽眼鏡人臉濾鏡啦！\n",
        "\n",
        "實際應用中，人臉關鍵點檢測只是其實一個環節，要做到應用級別，至少還需要一個人臉檢測模型\n",
        "\n",
        "而人臉相關的應用算是相對比較成熟的領域，所以可以找到很多研究和開源代碼，本課程有推薦一些項目，有興趣的同學可以自行參考～"
      ]
    },
    {
      "cell_type": "code",
      "metadata": {
        "id": "vP1QpL1qIjY1",
        "colab_type": "code",
        "colab": {}
      },
      "source": [
        ""
      ],
      "execution_count": 0,
      "outputs": []
    }
  ]
}