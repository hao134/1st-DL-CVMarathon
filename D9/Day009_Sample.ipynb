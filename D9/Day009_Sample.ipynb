{
 "cells": [
  {
   "cell_type": "markdown",
   "metadata": {},
   "source": [
    "# 範例\n",
    "\n",
    "取得 SIFT 特徵\n",
    "\n",
    "- 轉成灰階圖片\n",
    "- 需要額外安裝 OpenCV 相關套件"
   ]
  },
  {
   "cell_type": "code",
   "execution_count": 1,
   "metadata": {},
   "outputs": [
    {
     "name": "stdout",
     "output_type": "stream",
     "text": [
      "Collecting opencv-contrib-python==3.4.2.16\n",
      "\u001b[?25l  Downloading https://files.pythonhosted.org/packages/14/4d/0a775b580c5a24c1d5cbb7add78312e0176101490ba26cd2e49242fa40db/opencv_contrib_python-3.4.2.16-cp37-cp37m-macosx_10_6_x86_64.macosx_10_9_intel.macosx_10_9_x86_64.macosx_10_10_intel.macosx_10_10_x86_64.whl (47.9MB)\n",
      "\u001b[K    100% |████████████████████████████████| 47.9MB 423kB/s \n",
      "\u001b[?25hRequirement already satisfied: numpy>=1.14.5 in /Users/shihhaohuang/anaconda3/lib/python3.7/site-packages (from opencv-contrib-python==3.4.2.16) (1.15.4)\n",
      "Installing collected packages: opencv-contrib-python\n",
      "Successfully installed opencv-contrib-python-3.4.2.16\n"
     ]
    }
   ],
   "source": [
    "!pip install opencv-contrib-python==3.4.2.16"
   ]
  },
  {
   "cell_type": "code",
   "execution_count": 2,
   "metadata": {},
   "outputs": [],
   "source": [
    "import numpy as np\n",
    "import cv2\n",
    "\n",
    "img = cv2.imread('../Part01/lena.png')"
   ]
  },
  {
   "cell_type": "code",
   "execution_count": null,
   "metadata": {},
   "outputs": [],
   "source": [
    "# 轉灰階圖片\n",
    "img_gray = cv2.cvtColor(img, cv2.COLOR_BGR2GRAY)\n",
    "\n",
    "# 建立 SIFT 物件\n",
    "SIFT_detector = cv2.xfeatures2d.SIFT_create()\n",
    "\n",
    "# 取得 SIFT 關鍵點位置\n",
    "keypoints = SIFT_detector.detect(img_gray, None)\n",
    "\n",
    "#　畫圖 + 顯示圖片\n",
    "img_show = cv2.drawKeypoints(img_gray, keypoints, img)\n",
    "while True:\n",
    "    cv2.imshow('SIFT', img_show)\n",
    "    k = cv2.waitKey(0)\n",
    "    if k == 27:\n",
    "        cv2.destroyAllWindows()\n",
    "        break"
   ]
  },
  {
   "cell_type": "markdown",
   "metadata": {},
   "source": [
    "![](https://i.imgur.com/oogdB9O.jpg)"
   ]
  },
  {
   "cell_type": "code",
   "execution_count": null,
   "metadata": {},
   "outputs": [],
   "source": []
  }
 ],
 "metadata": {
  "kernelspec": {
   "display_name": "Python 3",
   "language": "python",
   "name": "python3"
  },
  "language_info": {
   "codemirror_mode": {
    "name": "ipython",
    "version": 3
   },
   "file_extension": ".py",
   "mimetype": "text/x-python",
   "name": "python",
   "nbconvert_exporter": "python",
   "pygments_lexer": "ipython3",
   "version": "3.7.1"
  }
 },
 "nbformat": 4,
 "nbformat_minor": 2
}
