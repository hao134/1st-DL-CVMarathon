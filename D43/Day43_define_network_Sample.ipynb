{
  "nbformat": 4,
  "nbformat_minor": 0,
  "metadata": {
    "kernelspec": {
      "name": "python3",
      "display_name": "Python 3"
    },
    "language_info": {
      "codemirror_mode": {
        "name": "ipython",
        "version": 3
      },
      "file_extension": ".py",
      "mimetype": "text/x-python",
      "name": "python",
      "nbconvert_exporter": "python",
      "pygments_lexer": "ipython3",
      "version": "3.6.4"
    },
    "colab": {
      "name": "Day43_define_network_Sample.ipynb",
      "provenance": []
    },
    "accelerator": "GPU"
  },
  "cells": [
    {
      "cell_type": "markdown",
      "metadata": {
        "id": "ikN87PmP8ayC",
        "colab_type": "text"
      },
      "source": [
        "### 範例\n",
        "接下來的程式碼會示範如何定義一個簡單的 CNN model"
      ]
    },
    {
      "cell_type": "code",
      "metadata": {
        "id": "aDDsKvE48ayH",
        "colab_type": "code",
        "colab": {}
      },
      "source": [
        "import numpy as np\n",
        "import pandas as pd\n",
        "import matplotlib.pyplot as plt\n",
        "import warnings\n",
        "warnings.filterwarnings('ignore')\n",
        "import random\n",
        "%matplotlib inline"
      ],
      "execution_count": 0,
      "outputs": []
    },
    {
      "cell_type": "code",
      "metadata": {
        "id": "mnhdCzBg8ayS",
        "colab_type": "code",
        "colab": {
          "base_uri": "https://localhost:8080/",
          "height": 119
        },
        "outputId": "dbb56dc7-a1ed-4ea7-b837-dafbae702809"
      },
      "source": [
        "# 使用 colab 環境的同學請執行以下程式碼\n",
        "%tensorflow_version 1.x # 確保 colob 中使用的 tensorflow 是 1.x 版本而不是 tensorflow 2\n",
        "import tensorflow as tf\n",
        "print(tf.__version__)\n",
        "\n",
        "import os\n",
        "# from google.colab import drive \n",
        "# drive.mount('/content/gdrive') # 將 google drive 掛載在 colob，\n",
        "# %cd 'gdrive/My Drive'\n",
        "# os.system(\"mkdir cupoy_cv_part4\") # 可以自己改路徑\n",
        "# %cd cupoy_cv_part4 # 可以自己改路徑"
      ],
      "execution_count": 4,
      "outputs": [
        {
          "output_type": "stream",
          "text": [
            "`%tensorflow_version` only switches the major version: `1.x` or `2.x`.\n",
            "You set: `1.x # 確保 colob 中使用的 tensorflow 是 1.x 版本而不是 tensorflow 2`. This will be interpreted as: `1.x`.\n",
            "\n",
            "\n",
            "TensorFlow 1.x selected.\n",
            "1.15.0\n"
          ],
          "name": "stdout"
        }
      ]
    },
    {
      "cell_type": "code",
      "metadata": {
        "id": "WcleYsWlBmdb",
        "colab_type": "code",
        "colab": {
          "base_uri": "https://localhost:8080/",
          "height": 564
        },
        "outputId": "6ee43917-163f-42af-9904-36bfc8bd4f0d"
      },
      "source": [
        "!pip uninstall -y kaggle\n",
        "!pip install --upgrade pip\n",
        "!pip install kaggle==1.5.6\n",
        "!kaggle -v"
      ],
      "execution_count": 8,
      "outputs": [
        {
          "output_type": "stream",
          "text": [
            "Uninstalling kaggle-1.5.6:\n",
            "  Successfully uninstalled kaggle-1.5.6\n",
            "Collecting pip\n",
            "\u001b[?25l  Downloading https://files.pythonhosted.org/packages/54/0c/d01aa759fdc501a58f431eb594a17495f15b88da142ce14b5845662c13f3/pip-20.0.2-py2.py3-none-any.whl (1.4MB)\n",
            "\u001b[K     |████████████████████████████████| 1.4MB 9.4MB/s \n",
            "\u001b[?25hInstalling collected packages: pip\n",
            "  Found existing installation: pip 19.3.1\n",
            "    Uninstalling pip-19.3.1:\n",
            "      Successfully uninstalled pip-19.3.1\n",
            "Successfully installed pip-20.0.2\n",
            "Collecting kaggle==1.5.6\n",
            "  Downloading kaggle-1.5.6.tar.gz (58 kB)\n",
            "\u001b[K     |████████████████████████████████| 58 kB 4.2 MB/s \n",
            "\u001b[?25hRequirement already satisfied: urllib3<1.25,>=1.21.1 in /usr/local/lib/python3.6/dist-packages (from kaggle==1.5.6) (1.24.3)\n",
            "Requirement already satisfied: six>=1.10 in /usr/local/lib/python3.6/dist-packages (from kaggle==1.5.6) (1.12.0)\n",
            "Requirement already satisfied: certifi in /usr/local/lib/python3.6/dist-packages (from kaggle==1.5.6) (2019.11.28)\n",
            "Requirement already satisfied: python-dateutil in /usr/local/lib/python3.6/dist-packages (from kaggle==1.5.6) (2.6.1)\n",
            "Requirement already satisfied: requests in /usr/local/lib/python3.6/dist-packages (from kaggle==1.5.6) (2.21.0)\n",
            "Requirement already satisfied: tqdm in /usr/local/lib/python3.6/dist-packages (from kaggle==1.5.6) (4.28.1)\n",
            "Requirement already satisfied: python-slugify in /usr/local/lib/python3.6/dist-packages (from kaggle==1.5.6) (4.0.0)\n",
            "Requirement already satisfied: chardet<3.1.0,>=3.0.2 in /usr/local/lib/python3.6/dist-packages (from requests->kaggle==1.5.6) (3.0.4)\n",
            "Requirement already satisfied: idna<2.9,>=2.5 in /usr/local/lib/python3.6/dist-packages (from requests->kaggle==1.5.6) (2.8)\n",
            "Requirement already satisfied: text-unidecode>=1.3 in /usr/local/lib/python3.6/dist-packages (from python-slugify->kaggle==1.5.6) (1.3)\n",
            "Building wheels for collected packages: kaggle\n",
            "  Building wheel for kaggle (setup.py) ... \u001b[?25l\u001b[?25hdone\n",
            "  Created wheel for kaggle: filename=kaggle-1.5.6-py3-none-any.whl size=72859 sha256=ea303d1cc18505d4cfa516b7555964ffba3953ebe422f41d7fdbfecbfd383498\n",
            "  Stored in directory: /root/.cache/pip/wheels/01/3e/ff/77407ebac3ef71a79b9166a8382aecf88415a0bcbe3c095a01\n",
            "Successfully built kaggle\n",
            "Installing collected packages: kaggle\n",
            "Successfully installed kaggle-1.5.6\n",
            "Kaggle API 1.5.6\n"
          ],
          "name": "stdout"
        }
      ]
    },
    {
      "cell_type": "code",
      "metadata": {
        "id": "LzUrt5ia__UR",
        "colab_type": "code",
        "colab": {
          "base_uri": "https://localhost:8080/",
          "height": 102
        },
        "outputId": "6b0ad0cc-0df3-4cc1-927a-06669640a318"
      },
      "source": [
        "os.environ['KAGGLE_USERNAME'] = 'hao134' # 請按照 Day42 簡報內容，獲取 kaggle api 需要用到的 username\n",
        "os.environ['KAGGLE_KEY'] = '426a519d8e85f4c778336bdbcf8c42e2' # 請按照 Day42 簡報獲取 kaggle api 需要用到的 key\n",
        "!kaggle competitions download -c facial-keypoints-detection\n",
        "!unzip test.zip\n",
        "!unzip training.zip"
      ],
      "execution_count": 11,
      "outputs": [
        {
          "output_type": "stream",
          "text": [
            "Downloading facial-keypoints-detection.zip to /content\n",
            " 96% 73.0M/76.3M [00:01<00:00, 39.5MB/s]\n",
            "100% 76.3M/76.3M [00:01<00:00, 65.4MB/s]\n",
            "unzip:  cannot find or open test.zip, test.zip.zip or test.zip.ZIP.\n",
            "unzip:  cannot find or open training.zip, training.zip.zip or training.zip.ZIP.\n"
          ],
          "name": "stdout"
        }
      ]
    },
    {
      "cell_type": "code",
      "metadata": {
        "id": "5YcEHGnvC64W",
        "colab_type": "code",
        "colab": {
          "base_uri": "https://localhost:8080/",
          "height": 102
        },
        "outputId": "e6c5db93-55b3-4032-af80-e4097235ad79"
      },
      "source": [
        "!unzip facial-keypoints-detection.zip"
      ],
      "execution_count": 13,
      "outputs": [
        {
          "output_type": "stream",
          "text": [
            "Archive:  facial-keypoints-detection.zip\n",
            "  inflating: IdLookupTable.csv       \n",
            "  inflating: SampleSubmission.csv    \n",
            "  inflating: test.zip                \n",
            "  inflating: training.zip            \n"
          ],
          "name": "stdout"
        }
      ]
    },
    {
      "cell_type": "code",
      "metadata": {
        "id": "wsBdw-efDCf7",
        "colab_type": "code",
        "colab": {
          "base_uri": "https://localhost:8080/",
          "height": 85
        },
        "outputId": "b2425738-5a3a-4596-c848-f62b9753f8b1"
      },
      "source": [
        "!unzip test.zip\n",
        "!unzip training.zip"
      ],
      "execution_count": 15,
      "outputs": [
        {
          "output_type": "stream",
          "text": [
            "Archive:  test.zip\n",
            "  inflating: test.csv                \n",
            "Archive:  training.zip\n",
            "  inflating: training.csv            \n"
          ],
          "name": "stdout"
        }
      ]
    },
    {
      "cell_type": "code",
      "metadata": {
        "id": "IGjUzpAI8ayo",
        "colab_type": "code",
        "colab": {}
      },
      "source": [
        "# 讀取資料集以及做前處理的函數\n",
        "def load_data(dirname):\n",
        "    # 讀取 csv 文件\n",
        "    data = pd.read_csv(dirname)\n",
        "    # 過濾有缺失值的 row\n",
        "    data = data.dropna()\n",
        "\n",
        "    # 將圖片像素值讀取為 numpy array 的形態\n",
        "    data['Image'] = data['Image'].apply(lambda img: np.fromstring(img, sep=' ')).values \n",
        "\n",
        "    # 單獨把圖像 array 抽取出來\n",
        "    imgs = np.vstack(data['Image'].values)/255\n",
        "    # reshape 為 96 x 96\n",
        "    imgs = imgs.reshape(data.shape[0], 96, 96)\n",
        "    # 轉換為 float\n",
        "    imgs = imgs.astype(np.float32)\n",
        "    \n",
        "    # 提取坐標的部分\n",
        "    points = data[data.columns[:-1]].values\n",
        "\n",
        "    # 轉換為 float\n",
        "    points = points.astype(np.float32)\n",
        "\n",
        "    # normalize 坐標值到 [-0.5, 0.5]\n",
        "    points = points/96 - 0.5\n",
        "    \n",
        "    return imgs, points"
      ],
      "execution_count": 0,
      "outputs": []
    },
    {
      "cell_type": "code",
      "metadata": {
        "id": "9WhopC5T8ay7",
        "colab_type": "code",
        "colab": {
          "base_uri": "https://localhost:8080/",
          "height": 51
        },
        "outputId": "ff341369-b90f-4c85-b00f-f3f2c7168362"
      },
      "source": [
        "# 讀取資料\n",
        "imgs_train, points_train = load_data(dirname = 'training.csv')\n",
        "print(\"圖像資料:\", imgs_train.shape, \"\\n關鍵點資料:\", points_train.shape)"
      ],
      "execution_count": 17,
      "outputs": [
        {
          "output_type": "stream",
          "text": [
            "圖像資料: (2140, 96, 96) \n",
            "關鍵點資料: (2140, 30)\n"
          ],
          "name": "stdout"
        }
      ]
    },
    {
      "cell_type": "code",
      "metadata": {
        "id": "pSQyrd2HGcp0",
        "colab_type": "code",
        "colab": {
          "base_uri": "https://localhost:8080/",
          "height": 51
        },
        "outputId": "dfc185a1-057f-4e8c-cf67-44bc680430f9"
      },
      "source": [
        "imgs_test, points_test = load_data(dirname = 'test.csv')\n",
        "print(\"圖像資料:\", imgs_test.shape, \"\\n關鍵點資料:\", points_test.shape)"
      ],
      "execution_count": 23,
      "outputs": [
        {
          "output_type": "stream",
          "text": [
            "圖像資料: (1783, 96, 96) \n",
            "關鍵點資料: (1783, 1)\n"
          ],
          "name": "stdout"
        }
      ]
    },
    {
      "cell_type": "markdown",
      "metadata": {
        "id": "648fhcLO8azE",
        "colab_type": "text"
      },
      "source": [
        "### 作業\n",
        "請嘗試使用 keras 來定義一個直接預測 15 個人臉關鍵點坐標的檢測網路，以及適合這個網路的 loss function\n",
        "\n",
        "\n",
        "Hint: 參考前面的電腦視覺深度學習基礎"
      ]
    },
    {
      "cell_type": "code",
      "metadata": {
        "id": "Z2JAJhw58azI",
        "colab_type": "code",
        "colab": {
          "base_uri": "https://localhost:8080/",
          "height": 34
        },
        "outputId": "98d69ab9-4d27-48cb-e026-2286218ca767"
      },
      "source": [
        "from keras.models import Sequential\n",
        "from keras.layers import Conv2D, MaxPooling2D, Flatten, Dense, Dropout"
      ],
      "execution_count": 18,
      "outputs": [
        {
          "output_type": "stream",
          "text": [
            "Using TensorFlow backend.\n"
          ],
          "name": "stderr"
        }
      ]
    },
    {
      "cell_type": "code",
      "metadata": {
        "id": "Rplx2UDyFvRB",
        "colab_type": "code",
        "colab": {
          "base_uri": "https://localhost:8080/",
          "height": 51
        },
        "outputId": "cbfe7924-6fc8-45c5-b071-c1da7cca0cd6"
      },
      "source": [
        "# prepare the data\n",
        "X_train = imgs_train.reshape(-1,96,96,1)\n",
        "X_test = imgs_test.reshape(-1,96,96,1)\n",
        "print(X_train.shape)\n",
        "print(X_test.shape)"
      ],
      "execution_count": 24,
      "outputs": [
        {
          "output_type": "stream",
          "text": [
            "(2140, 96, 96, 1)\n",
            "(1783, 96, 96, 1)\n"
          ],
          "name": "stdout"
        }
      ]
    },
    {
      "cell_type": "code",
      "metadata": {
        "id": "JUOHACaEK1ER",
        "colab_type": "code",
        "colab": {}
      },
      "source": [
        "from keras.layers.advanced_activations import LeakyReLU\n",
        "from keras.models import Sequential, Model\n",
        "from keras.layers import Activation, Convolution2D, MaxPooling2D, BatchNormalization, Flatten, Dense, Dropout, Conv2D,MaxPool2D, ZeroPadding2D"
      ],
      "execution_count": 0,
      "outputs": []
    },
    {
      "cell_type": "code",
      "metadata": {
        "id": "ibz19p2HKpLT",
        "colab_type": "code",
        "colab": {
          "base_uri": "https://localhost:8080/",
          "height": 1000
        },
        "outputId": "4cc699fc-2314-4244-e647-a5a5789b138b"
      },
      "source": [
        "model = Sequential()\n",
        "\n",
        "model.add(Convolution2D(32, (3,3), padding='same', use_bias=False, input_shape=(96,96,1)))\n",
        "model.add(LeakyReLU(alpha = 0.1))\n",
        "model.add(BatchNormalization())\n",
        "\n",
        "model.add(Convolution2D(32, (3,3), padding='same', use_bias=False))\n",
        "model.add(LeakyReLU(alpha = 0.1))\n",
        "model.add(BatchNormalization())\n",
        "model.add(MaxPool2D(pool_size=(2, 2)))\n",
        "\n",
        "model.add(Convolution2D(64, (3,3), padding='same', use_bias=False))\n",
        "model.add(LeakyReLU(alpha = 0.1))\n",
        "model.add(BatchNormalization())\n",
        "\n",
        "model.add(Convolution2D(64, (3,3), padding='same', use_bias=False))\n",
        "model.add(LeakyReLU(alpha = 0.1))\n",
        "model.add(BatchNormalization())\n",
        "model.add(MaxPool2D(pool_size=(2, 2)))\n",
        "\n",
        "model.add(Convolution2D(96, (3,3), padding='same', use_bias=False))\n",
        "model.add(LeakyReLU(alpha = 0.1))\n",
        "model.add(BatchNormalization())\n",
        "\n",
        "model.add(Convolution2D(96, (3,3), padding='same', use_bias=False))\n",
        "model.add(LeakyReLU(alpha = 0.1))\n",
        "model.add(BatchNormalization())\n",
        "model.add(MaxPool2D(pool_size=(2, 2)))\n",
        "\n",
        "model.add(Convolution2D(128, (3,3),padding='same', use_bias=False))\n",
        "# model.add(BatchNormalization())\n",
        "model.add(LeakyReLU(alpha = 0.1))\n",
        "model.add(BatchNormalization())\n",
        "\n",
        "model.add(Convolution2D(128, (3,3),padding='same', use_bias=False))\n",
        "model.add(LeakyReLU(alpha = 0.1))\n",
        "model.add(BatchNormalization())\n",
        "model.add(MaxPool2D(pool_size=(2, 2)))\n",
        "\n",
        "model.add(Convolution2D(256, (3,3),padding='same',use_bias=False))\n",
        "model.add(LeakyReLU(alpha = 0.1))\n",
        "model.add(BatchNormalization())\n",
        "\n",
        "model.add(Convolution2D(256, (3,3),padding='same',use_bias=False))\n",
        "model.add(LeakyReLU(alpha = 0.1))\n",
        "model.add(BatchNormalization())\n",
        "model.add(MaxPool2D(pool_size=(2, 2)))\n",
        "\n",
        "model.add(Convolution2D(512, (3,3), padding='same', use_bias=False))\n",
        "model.add(LeakyReLU(alpha = 0.1))\n",
        "model.add(BatchNormalization())\n",
        "\n",
        "model.add(Convolution2D(512, (3,3), padding='same', use_bias=False))\n",
        "model.add(LeakyReLU(alpha = 0.1))\n",
        "model.add(BatchNormalization())\n",
        "\n",
        "\n",
        "model.add(Flatten())\n",
        "model.add(Dense(512,activation='relu'))\n",
        "model.add(Dropout(0.1))\n",
        "model.add(Dense(30))\n",
        "model.summary()"
      ],
      "execution_count": 61,
      "outputs": [
        {
          "output_type": "stream",
          "text": [
            "WARNING:tensorflow:From /usr/local/lib/python3.6/dist-packages/keras/backend/tensorflow_backend.py:2041: The name tf.nn.fused_batch_norm is deprecated. Please use tf.compat.v1.nn.fused_batch_norm instead.\n",
            "\n",
            "WARNING:tensorflow:From /usr/local/lib/python3.6/dist-packages/keras/backend/tensorflow_backend.py:148: The name tf.placeholder_with_default is deprecated. Please use tf.compat.v1.placeholder_with_default instead.\n",
            "\n",
            "WARNING:tensorflow:From /usr/local/lib/python3.6/dist-packages/keras/backend/tensorflow_backend.py:3733: calling dropout (from tensorflow.python.ops.nn_ops) with keep_prob is deprecated and will be removed in a future version.\n",
            "Instructions for updating:\n",
            "Please use `rate` instead of `keep_prob`. Rate should be set to `rate = 1 - keep_prob`.\n",
            "Model: \"sequential_2\"\n",
            "_________________________________________________________________\n",
            "Layer (type)                 Output Shape              Param #   \n",
            "=================================================================\n",
            "conv2d_1 (Conv2D)            (None, 96, 96, 32)        288       \n",
            "_________________________________________________________________\n",
            "leaky_re_lu_1 (LeakyReLU)    (None, 96, 96, 32)        0         \n",
            "_________________________________________________________________\n",
            "batch_normalization_1 (Batch (None, 96, 96, 32)        128       \n",
            "_________________________________________________________________\n",
            "conv2d_2 (Conv2D)            (None, 96, 96, 32)        9216      \n",
            "_________________________________________________________________\n",
            "leaky_re_lu_2 (LeakyReLU)    (None, 96, 96, 32)        0         \n",
            "_________________________________________________________________\n",
            "batch_normalization_2 (Batch (None, 96, 96, 32)        128       \n",
            "_________________________________________________________________\n",
            "max_pooling2d_1 (MaxPooling2 (None, 48, 48, 32)        0         \n",
            "_________________________________________________________________\n",
            "conv2d_3 (Conv2D)            (None, 48, 48, 64)        18432     \n",
            "_________________________________________________________________\n",
            "leaky_re_lu_3 (LeakyReLU)    (None, 48, 48, 64)        0         \n",
            "_________________________________________________________________\n",
            "batch_normalization_3 (Batch (None, 48, 48, 64)        256       \n",
            "_________________________________________________________________\n",
            "conv2d_4 (Conv2D)            (None, 48, 48, 64)        36864     \n",
            "_________________________________________________________________\n",
            "leaky_re_lu_4 (LeakyReLU)    (None, 48, 48, 64)        0         \n",
            "_________________________________________________________________\n",
            "batch_normalization_4 (Batch (None, 48, 48, 64)        256       \n",
            "_________________________________________________________________\n",
            "max_pooling2d_2 (MaxPooling2 (None, 24, 24, 64)        0         \n",
            "_________________________________________________________________\n",
            "conv2d_5 (Conv2D)            (None, 24, 24, 96)        55296     \n",
            "_________________________________________________________________\n",
            "leaky_re_lu_5 (LeakyReLU)    (None, 24, 24, 96)        0         \n",
            "_________________________________________________________________\n",
            "batch_normalization_5 (Batch (None, 24, 24, 96)        384       \n",
            "_________________________________________________________________\n",
            "conv2d_6 (Conv2D)            (None, 24, 24, 96)        82944     \n",
            "_________________________________________________________________\n",
            "leaky_re_lu_6 (LeakyReLU)    (None, 24, 24, 96)        0         \n",
            "_________________________________________________________________\n",
            "batch_normalization_6 (Batch (None, 24, 24, 96)        384       \n",
            "_________________________________________________________________\n",
            "max_pooling2d_3 (MaxPooling2 (None, 12, 12, 96)        0         \n",
            "_________________________________________________________________\n",
            "conv2d_7 (Conv2D)            (None, 12, 12, 128)       110592    \n",
            "_________________________________________________________________\n",
            "leaky_re_lu_7 (LeakyReLU)    (None, 12, 12, 128)       0         \n",
            "_________________________________________________________________\n",
            "batch_normalization_7 (Batch (None, 12, 12, 128)       512       \n",
            "_________________________________________________________________\n",
            "conv2d_8 (Conv2D)            (None, 12, 12, 128)       147456    \n",
            "_________________________________________________________________\n",
            "leaky_re_lu_8 (LeakyReLU)    (None, 12, 12, 128)       0         \n",
            "_________________________________________________________________\n",
            "batch_normalization_8 (Batch (None, 12, 12, 128)       512       \n",
            "_________________________________________________________________\n",
            "max_pooling2d_4 (MaxPooling2 (None, 6, 6, 128)         0         \n",
            "_________________________________________________________________\n",
            "conv2d_9 (Conv2D)            (None, 6, 6, 256)         294912    \n",
            "_________________________________________________________________\n",
            "leaky_re_lu_9 (LeakyReLU)    (None, 6, 6, 256)         0         \n",
            "_________________________________________________________________\n",
            "batch_normalization_9 (Batch (None, 6, 6, 256)         1024      \n",
            "_________________________________________________________________\n",
            "conv2d_10 (Conv2D)           (None, 6, 6, 256)         589824    \n",
            "_________________________________________________________________\n",
            "leaky_re_lu_10 (LeakyReLU)   (None, 6, 6, 256)         0         \n",
            "_________________________________________________________________\n",
            "batch_normalization_10 (Batc (None, 6, 6, 256)         1024      \n",
            "_________________________________________________________________\n",
            "max_pooling2d_5 (MaxPooling2 (None, 3, 3, 256)         0         \n",
            "_________________________________________________________________\n",
            "conv2d_11 (Conv2D)           (None, 3, 3, 512)         1179648   \n",
            "_________________________________________________________________\n",
            "leaky_re_lu_11 (LeakyReLU)   (None, 3, 3, 512)         0         \n",
            "_________________________________________________________________\n",
            "batch_normalization_11 (Batc (None, 3, 3, 512)         2048      \n",
            "_________________________________________________________________\n",
            "conv2d_12 (Conv2D)           (None, 3, 3, 512)         2359296   \n",
            "_________________________________________________________________\n",
            "leaky_re_lu_12 (LeakyReLU)   (None, 3, 3, 512)         0         \n",
            "_________________________________________________________________\n",
            "batch_normalization_12 (Batc (None, 3, 3, 512)         2048      \n",
            "_________________________________________________________________\n",
            "flatten_1 (Flatten)          (None, 4608)              0         \n",
            "_________________________________________________________________\n",
            "dense_1 (Dense)              (None, 512)               2359808   \n",
            "_________________________________________________________________\n",
            "dropout_1 (Dropout)          (None, 512)               0         \n",
            "_________________________________________________________________\n",
            "dense_2 (Dense)              (None, 30)                15390     \n",
            "=================================================================\n",
            "Total params: 7,268,670\n",
            "Trainable params: 7,264,318\n",
            "Non-trainable params: 4,352\n",
            "_________________________________________________________________\n"
          ],
          "name": "stdout"
        }
      ]
    },
    {
      "cell_type": "code",
      "metadata": {
        "id": "C3APkwWWHN03",
        "colab_type": "code",
        "colab": {}
      },
      "source": [
        "model.compile(optimizer='adam', \n",
        "              loss='mean_squared_error',\n",
        "              metrics=['mae'])"
      ],
      "execution_count": 0,
      "outputs": []
    },
    {
      "cell_type": "code",
      "metadata": {
        "id": "1-YfR6gqHN7Q",
        "colab_type": "code",
        "colab": {
          "base_uri": "https://localhost:8080/",
          "height": 1000
        },
        "outputId": "de2c16b6-85f8-4e4f-9487-72cfc93bf060"
      },
      "source": [
        "model.fit(X_train,points_train,\n",
        "          epochs = 50,\n",
        "          batch_size = 256,\n",
        "          validation_split = 0.2)"
      ],
      "execution_count": 63,
      "outputs": [
        {
          "output_type": "stream",
          "text": [
            "Train on 1712 samples, validate on 428 samples\n",
            "Epoch 1/50\n",
            "1712/1712 [==============================] - 6s 3ms/step - loss: 3.7662 - mean_absolute_error: 1.1412 - val_loss: 13.1477 - val_mean_absolute_error: 2.4969\n",
            "Epoch 2/50\n",
            "1712/1712 [==============================] - 1s 702us/step - loss: 0.0375 - mean_absolute_error: 0.1637 - val_loss: 2.2760 - val_mean_absolute_error: 1.0671\n",
            "Epoch 3/50\n",
            "1712/1712 [==============================] - 1s 704us/step - loss: 0.0338 - mean_absolute_error: 0.1545 - val_loss: 0.8886 - val_mean_absolute_error: 0.6441\n",
            "Epoch 4/50\n",
            "1712/1712 [==============================] - 1s 703us/step - loss: 0.0306 - mean_absolute_error: 0.1426 - val_loss: 0.3383 - val_mean_absolute_error: 0.3947\n",
            "Epoch 5/50\n",
            "1712/1712 [==============================] - 1s 702us/step - loss: 0.0271 - mean_absolute_error: 0.1322 - val_loss: 0.1418 - val_mean_absolute_error: 0.2596\n",
            "Epoch 6/50\n",
            "1712/1712 [==============================] - 1s 703us/step - loss: 0.0237 - mean_absolute_error: 0.1225 - val_loss: 0.0722 - val_mean_absolute_error: 0.1902\n",
            "Epoch 7/50\n",
            "1712/1712 [==============================] - 1s 704us/step - loss: 0.0204 - mean_absolute_error: 0.1108 - val_loss: 0.0392 - val_mean_absolute_error: 0.1445\n",
            "Epoch 8/50\n",
            "1712/1712 [==============================] - 1s 708us/step - loss: 0.0175 - mean_absolute_error: 0.1020 - val_loss: 0.0264 - val_mean_absolute_error: 0.1209\n",
            "Epoch 9/50\n",
            "1712/1712 [==============================] - 1s 706us/step - loss: 0.0148 - mean_absolute_error: 0.0930 - val_loss: 0.0185 - val_mean_absolute_error: 0.1026\n",
            "Epoch 10/50\n",
            "1712/1712 [==============================] - 1s 705us/step - loss: 0.0122 - mean_absolute_error: 0.0835 - val_loss: 0.0140 - val_mean_absolute_error: 0.0895\n",
            "Epoch 11/50\n",
            "1712/1712 [==============================] - 1s 703us/step - loss: 0.0102 - mean_absolute_error: 0.0760 - val_loss: 0.0102 - val_mean_absolute_error: 0.0769\n",
            "Epoch 12/50\n",
            "1712/1712 [==============================] - 1s 702us/step - loss: 0.0083 - mean_absolute_error: 0.0686 - val_loss: 0.0078 - val_mean_absolute_error: 0.0679\n",
            "Epoch 13/50\n",
            "1712/1712 [==============================] - 1s 705us/step - loss: 0.0068 - mean_absolute_error: 0.0616 - val_loss: 0.0057 - val_mean_absolute_error: 0.0585\n",
            "Epoch 14/50\n",
            "1712/1712 [==============================] - 1s 707us/step - loss: 0.0059 - mean_absolute_error: 0.0567 - val_loss: 0.0046 - val_mean_absolute_error: 0.0533\n",
            "Epoch 15/50\n",
            "1712/1712 [==============================] - 1s 707us/step - loss: 0.0049 - mean_absolute_error: 0.0512 - val_loss: 0.0039 - val_mean_absolute_error: 0.0490\n",
            "Epoch 16/50\n",
            "1712/1712 [==============================] - 1s 702us/step - loss: 0.0043 - mean_absolute_error: 0.0472 - val_loss: 0.0033 - val_mean_absolute_error: 0.0446\n",
            "Epoch 17/50\n",
            "1712/1712 [==============================] - 1s 704us/step - loss: 0.0041 - mean_absolute_error: 0.0454 - val_loss: 0.0030 - val_mean_absolute_error: 0.0424\n",
            "Epoch 18/50\n",
            "1712/1712 [==============================] - 1s 705us/step - loss: 0.0040 - mean_absolute_error: 0.0439 - val_loss: 0.0028 - val_mean_absolute_error: 0.0405\n",
            "Epoch 19/50\n",
            "1712/1712 [==============================] - 1s 702us/step - loss: 0.0037 - mean_absolute_error: 0.0419 - val_loss: 0.0030 - val_mean_absolute_error: 0.0419\n",
            "Epoch 20/50\n",
            "1712/1712 [==============================] - 1s 704us/step - loss: 0.0035 - mean_absolute_error: 0.0408 - val_loss: 0.0029 - val_mean_absolute_error: 0.0412\n",
            "Epoch 21/50\n",
            "1712/1712 [==============================] - 1s 703us/step - loss: 0.0035 - mean_absolute_error: 0.0400 - val_loss: 0.0026 - val_mean_absolute_error: 0.0383\n",
            "Epoch 22/50\n",
            "1712/1712 [==============================] - 1s 702us/step - loss: 0.0034 - mean_absolute_error: 0.0392 - val_loss: 0.0025 - val_mean_absolute_error: 0.0381\n",
            "Epoch 23/50\n",
            "1712/1712 [==============================] - 1s 702us/step - loss: 0.0035 - mean_absolute_error: 0.0399 - val_loss: 0.0023 - val_mean_absolute_error: 0.0360\n",
            "Epoch 24/50\n",
            "1712/1712 [==============================] - 1s 705us/step - loss: 0.0031 - mean_absolute_error: 0.0371 - val_loss: 0.0030 - val_mean_absolute_error: 0.0413\n",
            "Epoch 25/50\n",
            "1712/1712 [==============================] - 1s 702us/step - loss: 0.0031 - mean_absolute_error: 0.0372 - val_loss: 0.0023 - val_mean_absolute_error: 0.0362\n",
            "Epoch 26/50\n",
            "1712/1712 [==============================] - 1s 706us/step - loss: 0.0031 - mean_absolute_error: 0.0376 - val_loss: 0.0024 - val_mean_absolute_error: 0.0373\n",
            "Epoch 27/50\n",
            "1712/1712 [==============================] - 1s 703us/step - loss: 0.0032 - mean_absolute_error: 0.0387 - val_loss: 0.0023 - val_mean_absolute_error: 0.0357\n",
            "Epoch 28/50\n",
            "1712/1712 [==============================] - 1s 706us/step - loss: 0.0032 - mean_absolute_error: 0.0381 - val_loss: 0.0030 - val_mean_absolute_error: 0.0415\n",
            "Epoch 29/50\n",
            "1712/1712 [==============================] - 1s 704us/step - loss: 0.0033 - mean_absolute_error: 0.0395 - val_loss: 0.0025 - val_mean_absolute_error: 0.0374\n",
            "Epoch 30/50\n",
            "1712/1712 [==============================] - 1s 704us/step - loss: 0.0031 - mean_absolute_error: 0.0376 - val_loss: 0.0022 - val_mean_absolute_error: 0.0357\n",
            "Epoch 31/50\n",
            "1712/1712 [==============================] - 1s 703us/step - loss: 0.0033 - mean_absolute_error: 0.0396 - val_loss: 0.0024 - val_mean_absolute_error: 0.0364\n",
            "Epoch 32/50\n",
            "1712/1712 [==============================] - 1s 699us/step - loss: 0.0032 - mean_absolute_error: 0.0390 - val_loss: 0.0031 - val_mean_absolute_error: 0.0424\n",
            "Epoch 33/50\n",
            "1712/1712 [==============================] - 1s 699us/step - loss: 0.0030 - mean_absolute_error: 0.0370 - val_loss: 0.0026 - val_mean_absolute_error: 0.0379\n",
            "Epoch 34/50\n",
            "1712/1712 [==============================] - 1s 710us/step - loss: 0.0028 - mean_absolute_error: 0.0363 - val_loss: 0.0022 - val_mean_absolute_error: 0.0353\n",
            "Epoch 35/50\n",
            "1712/1712 [==============================] - 1s 703us/step - loss: 0.0028 - mean_absolute_error: 0.0361 - val_loss: 0.0024 - val_mean_absolute_error: 0.0364\n",
            "Epoch 36/50\n",
            "1712/1712 [==============================] - 1s 702us/step - loss: 0.0030 - mean_absolute_error: 0.0366 - val_loss: 0.0022 - val_mean_absolute_error: 0.0355\n",
            "Epoch 37/50\n",
            "1712/1712 [==============================] - 1s 702us/step - loss: 0.0028 - mean_absolute_error: 0.0356 - val_loss: 0.0024 - val_mean_absolute_error: 0.0372\n",
            "Epoch 38/50\n",
            "1712/1712 [==============================] - 1s 706us/step - loss: 0.0029 - mean_absolute_error: 0.0366 - val_loss: 0.0021 - val_mean_absolute_error: 0.0350\n",
            "Epoch 39/50\n",
            "1712/1712 [==============================] - 1s 703us/step - loss: 0.0028 - mean_absolute_error: 0.0355 - val_loss: 0.0020 - val_mean_absolute_error: 0.0341\n",
            "Epoch 40/50\n",
            "1712/1712 [==============================] - 1s 701us/step - loss: 0.0028 - mean_absolute_error: 0.0362 - val_loss: 0.0023 - val_mean_absolute_error: 0.0358\n",
            "Epoch 41/50\n",
            "1712/1712 [==============================] - 1s 706us/step - loss: 0.0027 - mean_absolute_error: 0.0353 - val_loss: 0.0021 - val_mean_absolute_error: 0.0349\n",
            "Epoch 42/50\n",
            "1712/1712 [==============================] - 1s 701us/step - loss: 0.0028 - mean_absolute_error: 0.0360 - val_loss: 0.0025 - val_mean_absolute_error: 0.0376\n",
            "Epoch 43/50\n",
            "1712/1712 [==============================] - 1s 705us/step - loss: 0.0027 - mean_absolute_error: 0.0359 - val_loss: 0.0021 - val_mean_absolute_error: 0.0350\n",
            "Epoch 44/50\n",
            "1712/1712 [==============================] - 1s 701us/step - loss: 0.0027 - mean_absolute_error: 0.0355 - val_loss: 0.0027 - val_mean_absolute_error: 0.0389\n",
            "Epoch 45/50\n",
            "1712/1712 [==============================] - 1s 699us/step - loss: 0.0032 - mean_absolute_error: 0.0394 - val_loss: 0.0026 - val_mean_absolute_error: 0.0383\n",
            "Epoch 46/50\n",
            "1712/1712 [==============================] - 1s 701us/step - loss: 0.0030 - mean_absolute_error: 0.0382 - val_loss: 0.0024 - val_mean_absolute_error: 0.0365\n",
            "Epoch 47/50\n",
            "1712/1712 [==============================] - 1s 705us/step - loss: 0.0026 - mean_absolute_error: 0.0349 - val_loss: 0.0021 - val_mean_absolute_error: 0.0345\n",
            "Epoch 48/50\n",
            "1712/1712 [==============================] - 1s 706us/step - loss: 0.0024 - mean_absolute_error: 0.0333 - val_loss: 0.0021 - val_mean_absolute_error: 0.0344\n",
            "Epoch 49/50\n",
            "1712/1712 [==============================] - 1s 700us/step - loss: 0.0026 - mean_absolute_error: 0.0351 - val_loss: 0.0023 - val_mean_absolute_error: 0.0359\n",
            "Epoch 50/50\n",
            "1712/1712 [==============================] - 1s 706us/step - loss: 0.0024 - mean_absolute_error: 0.0336 - val_loss: 0.0022 - val_mean_absolute_error: 0.0354\n"
          ],
          "name": "stdout"
        },
        {
          "output_type": "execute_result",
          "data": {
            "text/plain": [
              "<keras.callbacks.History at 0x7febad426da0>"
            ]
          },
          "metadata": {
            "tags": []
          },
          "execution_count": 63
        }
      ]
    },
    {
      "cell_type": "code",
      "metadata": {
        "id": "tth3rKBMHNOK",
        "colab_type": "code",
        "colab": {}
      },
      "source": [
        "pred = model.predict(X_test)"
      ],
      "execution_count": 0,
      "outputs": []
    },
    {
      "cell_type": "code",
      "metadata": {
        "id": "AJe7d9n1IpQ4",
        "colab_type": "code",
        "colab": {
          "base_uri": "https://localhost:8080/",
          "height": 268
        },
        "outputId": "a74fa44e-80ec-4098-d78c-5936d211752d"
      },
      "source": [
        "# get the predict result\n",
        "random_pick = random.randint(0, imgs_test.shape[0])\n",
        "sample_img = imgs_test[random_pick]\n",
        "sample_points = pred[random_pick]\n",
        "plt.imshow(sample_img, cmap='gray')\n",
        "for index in range(0, sample_points.shape[-1], 2):\n",
        "    point_x = (sample_points[index]+0.5) *96\n",
        "    point_y = (sample_points[index+1]+0.5) *96\n",
        "    plt.scatter(point_x, point_y,s=15,c='red',marker='o',alpha=0.5)"
      ],
      "execution_count": 75,
      "outputs": [
        {
          "output_type": "display_data",
          "data": {
            "image/png": "[encoded data removed]",
            "text/plain": [
              "<Figure size 432x288 with 1 Axes>"
            ]
          },
          "metadata": {
            "tags": []
          }
        }
      ]
    },
    {
      "cell_type": "code",
      "metadata": {
        "id": "d4B2M3wPKnFF",
        "colab_type": "code",
        "colab": {}
      },
      "source": [
        ""
      ],
      "execution_count": 0,
      "outputs": []
    }
  ]
}